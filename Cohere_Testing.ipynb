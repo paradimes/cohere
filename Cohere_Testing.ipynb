{
  "nbformat": 4,
  "nbformat_minor": 0,
  "metadata": {
    "colab": {
      "provenance": [],
      "authorship_tag": "ABX9TyPK86nFRKr3ivz+f+6vMGRa",
      "include_colab_link": true
    },
    "kernelspec": {
      "name": "python3",
      "display_name": "Python 3"
    },
    "language_info": {
      "name": "python"
    }
  },
  "cells": [
    {
      "cell_type": "markdown",
      "metadata": {
        "id": "view-in-github",
        "colab_type": "text"
      },
      "source": [
        "<a href=\"https://colab.research.google.com/github/paradimes/cohere/blob/main/Cohere_Testing.ipynb\" target=\"_parent\"><img src=\"https://colab.research.google.com/assets/colab-badge.svg\" alt=\"Open In Colab\"/></a>"
      ]
    },
    {
      "cell_type": "markdown",
      "source": [
        "Learning and trying out Cohere APIs. Following along with https://txt.cohere.com/hello-world-p1/ and https://txt.cohere.com/hello-world-p2/."
      ],
      "metadata": {
        "id": "spks94GJsKEV"
      }
    },
    {
      "cell_type": "markdown",
      "source": [
        "# Setup"
      ],
      "metadata": {
        "id": "8U5yYjLiprVi"
      }
    },
    {
      "cell_type": "code",
      "execution_count": 2,
      "metadata": {
        "id": "oBnihrwnrBaA"
      },
      "outputs": [],
      "source": [
        "# Install libraries\n",
        "! pip install cohere altair umap-learn > /dev/null"
      ]
    },
    {
      "cell_type": "code",
      "source": [
        "# Import libraries\n",
        "import cohere\n",
        "import pandas as pd\n",
        "import numpy as np\n",
        "import altair as alt\n",
        "import textwrap as tr\n",
        "\n",
        "# Setup Cohere client\n",
        "api_key = 'PudFoWTJJgo3Xg4CLoEydHjJoReesIg5JXG4mjkt'\n",
        "co = cohere.Client(api_key)"
      ],
      "metadata": {
        "id": "vPjGBRo3zaN2"
      },
      "execution_count": 3,
      "outputs": []
    },
    {
      "cell_type": "markdown",
      "source": [
        "# 1. Generating Text"
      ],
      "metadata": {
        "id": "xWXGTAV-pxxC"
      }
    },
    {
      "cell_type": "code",
      "source": [
        "# Generating Text\n",
        "\n",
        "paragraphs = []\n",
        "\n",
        "# Creating a prompt. Prompts provide a context for the text that we want the model to generate.\n",
        "# Prompt Engineering: Shape the output to our desire by figuring out how to oprimally prompt the model for a particular task.\n",
        "\n",
        "# base_prompt1 = \"\"\"\n",
        "# This program will generate the first paragraph of a blog post given a blog title.\n",
        "# --\n",
        "# Blog Title: Best Activities in Toronto\n",
        "# First Paragraph: Looking for fun things to do in Toronto? When it comes to exploring Canada's\n",
        "# largest city, there's an ever-evolving set of activities to choose from. Whether you're looking to\n",
        "# visit a local museum or sample the city's varied cuisine, there is plenty to fill any itinerary. In\n",
        "# this blog post, I'll share some of my favorite recommendations\n",
        "# --\n",
        "# Blog Title: Mastering Dynamic Programming\n",
        "# First Paragraph: In this piece, we'll help you understand the fundamentals of dynamic programming,\n",
        "# and when to apply this optimization technique. We'll break down bottom-up and top-down approaches to\n",
        "# solve dynamic programming problems.\n",
        "# --\n",
        "# Blog Title:\"\"\"\n",
        "\n",
        "base_prompt = \"\"\"\n",
        "This program will generate the table of contents of a given topic.\n",
        "--\n",
        "Topic: Software Engineering\n",
        "Table of Contents:\n",
        "1. Introduction to Software Engineering\n",
        "   1.1 Evolution and Importance of Software Engineering\n",
        "   1.2 Software Engineering Principles and Practices\n",
        "   1.3 Software Development Life Cycle Models\n",
        "   1.4 Software Engineering Ethics and Professionalism\n",
        "\n",
        "2. Requirements Engineering\n",
        "   2.1 Gathering and Eliciting Requirements\n",
        "   2.2 Analyzing and Documenting Requirements\n",
        "   2.3 Requirements Validation and Verification\n",
        "   2.4 Requirements Management and Change Control\n",
        "\n",
        "3. Software Design\n",
        "   3.1 Principles of Software Design\n",
        "   3.2 Architectural Design\n",
        "   3.3 Detailed Design and Object-Oriented Design\n",
        "   3.4 Design Patterns and Software Reusability\n",
        "\n",
        "4. Software Construction\n",
        "   4.1 Coding Practices and Standards\n",
        "   4.2 Software Development Tools and Environments\n",
        "   4.3 Testing and Debugging Techniques\n",
        "   4.4 Software Configuration Management\n",
        "\n",
        "5. Software Testing and Quality Assurance\n",
        "   5.1 Software Testing Fundamentals\n",
        "   5.2 Testing Techniques and Strategies\n",
        "   5.3 Test Case Design and Execution\n",
        "   5.4 Software Quality Assurance and Metrics\n",
        "\n",
        "6. Software Maintenance and Evolution\n",
        "   6.1 Software Maintenance Process\n",
        "   6.2 Reverse Engineering and Reengineering\n",
        "   6.3 Software Evolution and Versioning\n",
        "   6.4 Legacy System Integration and Migration\n",
        "\n",
        "7. Software Project Management\n",
        "   7.1 Project Planning and Estimation\n",
        "   7.2 Risk Management\n",
        "   7.3 Agile and Scrum Methodologies\n",
        "   7.4 Software Project Monitoring and Control\n",
        "\n",
        "8. Software Engineering for Web Applications\n",
        "   8.1 Web Development Technologies and Frameworks\n",
        "   8.2 Client-Server Architecture and Web Services\n",
        "   8.3 Web Security and Performance Optimization\n",
        "   8.4 Mobile Application Development\n",
        "\n",
        "9. Emerging Trends in Software Engineering\n",
        "   9.1 Cloud Computing and Software as a Service\n",
        "   9.2 DevOps and Continuous Integration/Delivery\n",
        "   9.3 Artificial Intelligence and Machine Learning in Software Engineering\n",
        "   9.4 Blockchain Technology and Smart Contracts\n",
        "\n",
        "10. Software Engineering Ethics and Professionalism\n",
        "   10.1 Ethical Issues in Software Engineering\n",
        "   10.2 Professional Codes of Conduct and Responsibilities\n",
        "   10.3 Intellectual Property and Legal Considerations\n",
        "   10.4 Privacy and Data Protection in Software Engineering\n",
        "\n",
        "Appendix A: Case Studies and Real-World Examples\n",
        "Appendix B: Glossary of Software Engineering Terms\n",
        "Appendix C: Recommended Reading and Resources\n",
        "--\n",
        "Topic: Evolution\n",
        "Table of Contents:\n",
        "1. Introduction to Evolution\n",
        "   1.1 What is Evolution?\n",
        "   1.2 The Historical Context of Evolutionary Theory\n",
        "   1.3 The Scientific Method in Evolutionary Studies\n",
        "   1.4 The Importance of Understanding Evolution\n",
        "\n",
        "2. The Mechanisms of Evolution\n",
        "   2.1 Natural Selection\n",
        "   2.2 Genetic Drift\n",
        "   2.3 Gene Flow\n",
        "   2.4 Mutation\n",
        "   2.5 Non-Random Mating\n",
        "\n",
        "3. Evidence for Evolution\n",
        "   3.1 Fossil Record and Transitional Forms\n",
        "   3.2 Comparative Anatomy and Homologous Structures\n",
        "   3.3 Embryology and Developmental Patterns\n",
        "   3.4 Molecular Biology and DNA Sequencing\n",
        "   3.5 Biogeography and Distribution of Species\n",
        "\n",
        "4. Patterns of Evolution\n",
        "   4.1 Divergent Evolution and Adaptive Radiation\n",
        "   4.2 Convergent Evolution and Analogous Structures\n",
        "   4.3 Coevolution and Mutualism\n",
        "   4.4 Extinction and Mass Extinction Events\n",
        "   4.5 Patterns of Speciation\n",
        "\n",
        "5. The Evolution of Life on Earth\n",
        "   5.1 The Origin of Life\n",
        "   5.2 Early Evolutionary History\n",
        "   5.3 Major Transitions in Evolution\n",
        "   5.4 Human Evolution and Ancestry\n",
        "\n",
        "6. Evolution and Ecology\n",
        "   6.1 Evolutionary Adaptations and Ecological Niches\n",
        "   6.2 Predator-Prey Interactions\n",
        "   6.3 Coevolutionary Relationships\n",
        "   6.4 Evolutionary Responses to Environmental Changes\n",
        "\n",
        "7. Evolutionary Genetics\n",
        "   7.1 Population Genetics\n",
        "   7.2 Evolutionary Forces and Genetic Variation\n",
        "   7.3 Molecular Evolution and Genetic Divergence\n",
        "   7.4 Evolutionary Developmental Biology (Evo-Devo)\n",
        "\n",
        "8. Evolutionary Perspectives in Science and Society\n",
        "   8.1 Evolution and Medicine\n",
        "   8.2 Evolutionary Psychology\n",
        "   8.3 Evolution and Conservation Biology\n",
        "   8.4 Evolutionary Ethics and Societal Implications\n",
        "\n",
        "9. The Future of Evolutionary Studies\n",
        "   9.1 Current Research and Frontiers in Evolutionary Biology\n",
        "   9.2 The Role of Technology in Advancing Evolutionary Studies\n",
        "   9.3 Ethical Considerations in Evolutionary Research\n",
        "\n",
        "Appendix A: Glossary of Key Terms\n",
        "Appendix B: Biographies of Notable Evolutionary Scientists\n",
        "Appendix C: Recommended Reading and Resources\n",
        "--\n",
        "Topic:\"\"\"\n",
        "\n",
        "# topics\n",
        "topics = [\n",
        "    \"Artificial Intelligence in Healthcare\",\n",
        "    \"Sustainable Energy Technologies\",\n",
        "    \"Future of Space Exploration\",\n",
        "    # \"Impact of Social Media on Society\",\n",
        "]\n",
        "\n",
        "# The Generate endpoint to generate text. Model settings.\n",
        "def generate_text(base_prompt, current_prompt):\n",
        "  response = co.generate(\n",
        "      model='base',\n",
        "      prompt=base_prompt + current_prompt,\n",
        "      max_tokens=500,\n",
        "      temperature=0.4,\n",
        "      stop_sequences=[\"--\"])\n",
        "  generation = response.generations[0].text\n",
        "\n",
        "  return generation\n",
        "\n",
        "\n",
        "for topic in topics:\n",
        "  current_prompt = \" \" + topic + \"\\n\" + \"Table of Contents:\"\n",
        "  para = generate_text(base_prompt, current_prompt)\n",
        "  para = para.strip().replace(\"--\",\"\")\n",
        "  paragraphs.append(para)\n",
        "\n",
        "\n",
        "for topic, para in zip(topics, paragraphs):\n",
        "  print(f\"Topic: {topic}\")\n",
        "  print(f\"Table of Contents: \\n {para}\")\n",
        "  print(\"-\"*100)\n"
      ],
      "metadata": {
        "colab": {
          "base_uri": "https://localhost:8080/"
        },
        "id": "4a5aOWwM0lUL",
        "outputId": "6de4538d-a26d-41f0-c25b-13c41a20c744"
      },
      "execution_count": null,
      "outputs": [
        {
          "output_type": "stream",
          "name": "stdout",
          "text": [
            "Topic: Artificial Intelligence in Healthcare\n",
            "Table of Contents: \n",
            " 1. Introduction to Artificial Intelligence in Healthcare\n",
            "   1.1 Artificial Intelligence and Healthcare\n",
            "   1.2 Historical Development of AI in Healthcare\n",
            "   1.3 AI in Healthcare Today\n",
            "   1.4 AI in Healthcare of the Future\n",
            "\n",
            "2. AI in Diagnosis and Treatment\n",
            "   2.1 Diagnosis and Treatment with AI\n",
            "   2.2 AI in Medical Imaging\n",
            "   2.3 AI in Medical Robots\n",
            "   2.4 AI in Medical Devices\n",
            "   2.5 AI in Medical Informatics\n",
            "   2.6 AI in Medical Decision Support Systems\n",
            "   2.7 AI in Medical Research\n",
            "   2.8 AI in Medical Education\n",
            "   2.9 AI in Medical Care Delivery\n",
            "\n",
            "3. AI in Disease Prevention and Health Promotion\n",
            "   3.1 AI in Disease Prevention\n",
            "   3.2 AI in Health Promotion\n",
            "\n",
            "4. AI in Healthcare Administration\n",
            "   4.1 AI in Healthcare Administration\n",
            "   4.2 AI in Healthcare Financing\n",
            "   4.3 AI in Healthcare Policy\n",
            "\n",
            "5. AI in Healthcare Ethics\n",
            "   5.1 AI in Healthcare Ethics\n",
            "   5.2 AI in Healthcare Law\n",
            "\n",
            "6. AI in Healthcare Education\n",
            "   6.1 AI in Healthcare Education\n",
            "   6.2 AI in Healthcare Workforce Development\n",
            "\n",
            "7. AI in Healthcare and Society\n",
            "   7.1 AI in Healthcare and Society\n",
            "   7.2 AI in Healthcare and the Economy\n",
            "   7.3 AI in Healthcare and the Environment\n",
            "   7.4 AI in Healthcare and Politics\n",
            "   7.5 AI in Healthcare and Religion\n",
            "\n",
            "Appendix A: Glossary of Key Terms\n",
            "Appendix B: Biographies of Notable AI Researchers\n",
            "Appendix C: Recommended Reading and Resources\n",
            "\n",
            "----------------------------------------------------------------------------------------------------\n",
            "Topic: Sustainable Energy Technologies\n",
            "Table of Contents: \n",
            " 1. Introduction to Sustainable Energy Technologies\n",
            "   1.1 What is Sustainable Energy?\n",
            "   1.2 The Need for Sustainable Energy\n",
            "   1.3 Energy Technologies and the Energy Transition\n",
            "   1.4 Energy and the Environment\n",
            "   1.5 Sustainable Energy and the Economy\n",
            "   1.6 Sustainable Energy and Society\n",
            "\n",
            "2. Energy Sources and Energy Conversion\n",
            "   2.1 Energy Sources\n",
            "   2.2 Energy Conversion\n",
            "   2.3 Energy Storage\n",
            "   2.4 Energy Efficiency\n",
            "   2.5 Energy Distribution and Smart Grids\n",
            "\n",
            "3. Renewable Energy\n",
            "   3.1 Renewable Energy Technologies\n",
            "   3.2 Renewable Energy and the Energy Transition\n",
            "   3.3 Renewable Energy and the Environment\n",
            "   3.4 Renewable Energy and the Economy\n",
            "   3.5 Renewable Energy and Society\n",
            "\n",
            "4. Nuclear Energy\n",
            "   4.1 Nuclear Energy and the Energy Transition\n",
            "   4.2 Nuclear Energy and the Environment\n",
            "   4.3 Nuclear Energy and the Economy\n",
            "   4.4 Nuclear Energy and Society\n",
            "\n",
            "5. Fossil Fuels\n",
            "   5.1 Fossil Fuels and the Energy Transition\n",
            "   5.2 Fossil Fuels and the Environment\n",
            "   5.3 Fossil Fuels and the Economy\n",
            "   5.4 Fossil Fuels and Society\n",
            "\n",
            "6. Energy and Climate Change\n",
            "   6.1 Energy and Climate Change\n",
            "   6.2 Climate Change Mitigation\n",
            "   6.3 Climate Change Adaptation\n",
            "\n",
            "7. Energy and the Environment\n",
            "   7.1 Energy and the Environment\n",
            "   7.2 Environmental Impacts of Energy Technologies\n",
            "   7.3 Environmental Impacts of Fossil Fuels\n",
            "   7.4 Environmental Impacts of Nuclear Energy\n",
            "   7.5 Environmental Impacts of Renewable Energy\n",
            "\n",
            "8. Energy and the Economy\n",
            "   8.1 Energy and the Economy\n",
            "   8.2 Energy and Economic Development\n",
            "   8.3 Energy and Economic Growth\n",
            "   8.4 Energy and Economic Security\n",
            "   8.5 Energy and Economic Equity\n",
            "\n",
            "9. Energy and Society\n",
            "   9.1 Energy and Society\n",
            "   9.2 Energy and Globalization\n",
            "   9.3 Energy\n",
            "----------------------------------------------------------------------------------------------------\n",
            "Topic: Future of Space Exploration\n",
            "Table of Contents: \n",
            " 1. Introduction to the Future of Space Exploration\n",
            "   1.1 The Future of Human Space Exploration\n",
            "   1.2 The Future of Robotic Space Exploration\n",
            "   1.3 The Future of Space Colonization\n",
            "\n",
            "2. The Future of Human Space Exploration\n",
            "   2.1 Space Stations and Habitats\n",
            "   2.2 Human Spaceflight and Exploration\n",
            "   2.3 Human Spaceflight and Exploration in the Future\n",
            "\n",
            "3. The Future of Robotic Space Exploration\n",
            "   3.1 Robotic Space Probes\n",
            "   3.2 Robotic Space Rovers and Landers\n",
            "   3.3 Robotic Space Sample Return Missions\n",
            "     1. Sample Return Missions to the Moon\n",
            "     2. Sample Return Missions to Mars\n",
            "     3. Sample Return Missions to Asteroids\n",
            "     4. Robotic Exploration of the Outer Solar System\n",
            "     5. Robotic Exploration of the Inner Solar System\n",
            "     6. Robotic Exploration of the Moon\n",
            "     7. Robotic Exploration of the Martian Surface\n",
            "     8. Robotic Exploration of the Martian Atmosphere\n",
            "     9. Robotic Exploration of the Martian Moons\n",
            "     10. Robotic Exploration of the Asteroid Belt\n",
            "     11. Robotic Exploration of the Inner Solar System\n",
            "     12. Robotic Exploration of the Outer Solar System\n",
            "     13. Robotic Exploration of the Interstellar Medium\n",
            "\n",
            "4. The Future of Space Colonization\n",
            "   4.1 Space Settlements\n",
            "   4.2 Space Habitats\n",
            "   4.3 Space Settlement and Colonization Strategies\n",
            "     1. Colonization Strategies for Mars\n",
            "     2. Colonization Strategies for the Moon\n",
            "     3. Colonization Strategies for Asteroids\n",
            "     4. Colonization Strategies for the Outer Solar System\n",
            "     5. Colonization Strategies for the Inner Solar System\n",
            "\n",
            "5. The Future of Space Exploration and Society\n",
            "   5.1 Space Exploration and Society\n",
            "   5.2 Space Exploration and the Economy\n",
            "     1. Space Exploration and the Economy in the Future\n",
            "     2.\n",
            "----------------------------------------------------------------------------------------------------\n"
          ]
        }
      ]
    },
    {
      "cell_type": "markdown",
      "source": [
        "# 2. Classifying Text (Sentiment Analysis)"
      ],
      "metadata": {
        "id": "YNSz6jmApkMC"
      }
    },
    {
      "cell_type": "code",
      "source": [
        "# Create the training examples for the classifier\n",
        "from cohere.responses.classify import Example\n",
        "\n",
        "examples = [Example(\"I’m so proud of you\", \"positive\"),\n",
        "            Example(\"What a great time to be alive\", \"positive\"),\n",
        "            Example(\"That’s awesome work\", \"positive\"),\n",
        "            Example(\"The service was amazing\", \"positive\"),\n",
        "            Example(\"I love my family\", \"positive\"),\n",
        "            Example(\"They don't care about me\", \"negative\"),\n",
        "            Example(\"I hate this place\", \"negative\"),\n",
        "            Example(\"The most ridiculous thing I've ever heard\", \"negative\"),\n",
        "            Example(\"I am really frustrated\", \"negative\"),\n",
        "            Example(\"This is so unfair\", \"negative\"),\n",
        "            Example(\"This made me think\", \"neutral\"),\n",
        "            Example(\"The good old days\", \"neutral\"),\n",
        "            Example(\"What's the difference\", \"neutral\"),\n",
        "            Example(\"You can't ignore this\", \"neutral\"),\n",
        "            Example(\"That's how I see it\", \"neutral\")\n",
        "            ]"
      ],
      "metadata": {
        "id": "QUu1fW2IpNNe"
      },
      "execution_count": null,
      "outputs": []
    },
    {
      "cell_type": "code",
      "source": [
        "# Enter the inputs to be classified\n",
        "inputs = [\n",
        "    \"I absolutely loved the movie!\",\n",
        "    \"The food at that restaurant was terrible.\",\n",
        "    \"I'm feeling indifferent about the weather today.\",\n",
        "    \"The customer service was excellent.\",\n",
        "    \"The traffic jam this morning ruined my day.\",\n",
        "    \"I have mixed feelings about the new software update.\",\n",
        "    \"The performance of the team was outstanding.\",\n",
        "    \"The hotel room was disappointing and unclean.\",\n",
        "    \"I don't have any strong opinions about the book.\",\n",
        "    \"The concert was a complete letdown.\",\n",
        "]"
      ],
      "metadata": {
        "id": "JFu_Bch8qKhC"
      },
      "execution_count": null,
      "outputs": []
    },
    {
      "cell_type": "code",
      "source": [
        "# A function that classifies a list of inputs given the examples\n",
        "def classify_text(inputs, examples):\n",
        "  response = co.classify(\n",
        "    model='embed-english-v2.0',\n",
        "    inputs=inputs,\n",
        "    examples=examples)\n",
        "\n",
        "  classifications = response.classifications\n",
        "\n",
        "  return classifications"
      ],
      "metadata": {
        "id": "No3dSItBqQpH"
      },
      "execution_count": null,
      "outputs": []
    },
    {
      "cell_type": "code",
      "source": [
        "# Classify the inputs\n",
        "predictions = classify_text(inputs,examples)\n",
        "# print(f\"Predictions: {predictions}\")\n",
        "\n",
        "# Display the classification outcomes\n",
        "# classes = [\"positive\",\"negative\",\"neutral\"]\n",
        "for inp,pred in zip(inputs,predictions):\n",
        "  # print(pred)\n",
        "  class_pred = pred.prediction\n",
        "  # class_idx = classes.index(class_pred)\n",
        "  class_conf = pred.confidence\n",
        "\n",
        "  print(f\"Input: {inp}\")\n",
        "  print(f\"Prediction: {class_pred}\")\n",
        "  print(f\"Confidence: {class_conf:.3f}\")\n",
        "  print(\"-\"*100)"
      ],
      "metadata": {
        "colab": {
          "base_uri": "https://localhost:8080/"
        },
        "id": "RLdSnUwoqWZo",
        "outputId": "77bed890-374b-4668-8094-9e275989959d"
      },
      "execution_count": null,
      "outputs": [
        {
          "output_type": "stream",
          "name": "stdout",
          "text": [
            "Input: I absolutely loved the movie!\n",
            "Prediction: positive\n",
            "Confidence: 0.927\n",
            "----------------------------------------------------------------------------------------------------\n",
            "Input: The food at that restaurant was terrible.\n",
            "Prediction: negative\n",
            "Confidence: 0.988\n",
            "----------------------------------------------------------------------------------------------------\n",
            "Input: I'm feeling indifferent about the weather today.\n",
            "Prediction: neutral\n",
            "Confidence: 0.739\n",
            "----------------------------------------------------------------------------------------------------\n",
            "Input: The customer service was excellent.\n",
            "Prediction: positive\n",
            "Confidence: 0.998\n",
            "----------------------------------------------------------------------------------------------------\n",
            "Input: The traffic jam this morning ruined my day.\n",
            "Prediction: negative\n",
            "Confidence: 0.943\n",
            "----------------------------------------------------------------------------------------------------\n",
            "Input: I have mixed feelings about the new software update.\n",
            "Prediction: negative\n",
            "Confidence: 0.373\n",
            "----------------------------------------------------------------------------------------------------\n",
            "Input: The performance of the team was outstanding.\n",
            "Prediction: positive\n",
            "Confidence: 0.967\n",
            "----------------------------------------------------------------------------------------------------\n",
            "Input: The hotel room was disappointing and unclean.\n",
            "Prediction: negative\n",
            "Confidence: 0.976\n",
            "----------------------------------------------------------------------------------------------------\n",
            "Input: I don't have any strong opinions about the book.\n",
            "Prediction: neutral\n",
            "Confidence: 0.657\n",
            "----------------------------------------------------------------------------------------------------\n",
            "Input: The concert was a complete letdown.\n",
            "Prediction: negative\n",
            "Confidence: 0.969\n",
            "----------------------------------------------------------------------------------------------------\n"
          ]
        }
      ]
    },
    {
      "cell_type": "markdown",
      "source": [
        "# 3. Analyzing Text"
      ],
      "metadata": {
        "id": "euDz6hSlYsFu"
      }
    },
    {
      "cell_type": "code",
      "source": [
        "# Get a list of text and add to a dataframe\n",
        "df = pd.read_csv(\"https://github.com/cohere-ai/notebooks/raw/main/notebooks/data/hello-world-kw.csv\", names=[\"search_term\"])\n",
        "df.head()"
      ],
      "metadata": {
        "colab": {
          "base_uri": "https://localhost:8080/",
          "height": 206
        },
        "id": "woOAo64dYvXb",
        "outputId": "7c8ff370-44a2-48b7-ec92-652d15189fdf"
      },
      "execution_count": 9,
      "outputs": [
        {
          "output_type": "execute_result",
          "data": {
            "text/plain": [
              "                                    search_term\n",
              "0            how to print hello world in python\n",
              "1                           what is hello world\n",
              "2  how do you write hello world in an alert box\n",
              "3              how to print hello world in java\n",
              "4           how to write hello world in eclipse"
            ],
            "text/html": [
              "\n",
              "  <div id=\"df-3a4728da-14a8-4e5f-ae40-d00281ab0f5e\">\n",
              "    <div class=\"colab-df-container\">\n",
              "      <div>\n",
              "<style scoped>\n",
              "    .dataframe tbody tr th:only-of-type {\n",
              "        vertical-align: middle;\n",
              "    }\n",
              "\n",
              "    .dataframe tbody tr th {\n",
              "        vertical-align: top;\n",
              "    }\n",
              "\n",
              "    .dataframe thead th {\n",
              "        text-align: right;\n",
              "    }\n",
              "</style>\n",
              "<table border=\"1\" class=\"dataframe\">\n",
              "  <thead>\n",
              "    <tr style=\"text-align: right;\">\n",
              "      <th></th>\n",
              "      <th>search_term</th>\n",
              "    </tr>\n",
              "  </thead>\n",
              "  <tbody>\n",
              "    <tr>\n",
              "      <th>0</th>\n",
              "      <td>how to print hello world in python</td>\n",
              "    </tr>\n",
              "    <tr>\n",
              "      <th>1</th>\n",
              "      <td>what is hello world</td>\n",
              "    </tr>\n",
              "    <tr>\n",
              "      <th>2</th>\n",
              "      <td>how do you write hello world in an alert box</td>\n",
              "    </tr>\n",
              "    <tr>\n",
              "      <th>3</th>\n",
              "      <td>how to print hello world in java</td>\n",
              "    </tr>\n",
              "    <tr>\n",
              "      <th>4</th>\n",
              "      <td>how to write hello world in eclipse</td>\n",
              "    </tr>\n",
              "  </tbody>\n",
              "</table>\n",
              "</div>\n",
              "      <button class=\"colab-df-convert\" onclick=\"convertToInteractive('df-3a4728da-14a8-4e5f-ae40-d00281ab0f5e')\"\n",
              "              title=\"Convert this dataframe to an interactive table.\"\n",
              "              style=\"display:none;\">\n",
              "        \n",
              "  <svg xmlns=\"http://www.w3.org/2000/svg\" height=\"24px\"viewBox=\"0 0 24 24\"\n",
              "       width=\"24px\">\n",
              "    <path d=\"M0 0h24v24H0V0z\" fill=\"none\"/>\n",
              "    <path d=\"M18.56 5.44l.94 2.06.94-2.06 2.06-.94-2.06-.94-.94-2.06-.94 2.06-2.06.94zm-11 1L8.5 8.5l.94-2.06 2.06-.94-2.06-.94L8.5 2.5l-.94 2.06-2.06.94zm10 10l.94 2.06.94-2.06 2.06-.94-2.06-.94-.94-2.06-.94 2.06-2.06.94z\"/><path d=\"M17.41 7.96l-1.37-1.37c-.4-.4-.92-.59-1.43-.59-.52 0-1.04.2-1.43.59L10.3 9.45l-7.72 7.72c-.78.78-.78 2.05 0 2.83L4 21.41c.39.39.9.59 1.41.59.51 0 1.02-.2 1.41-.59l7.78-7.78 2.81-2.81c.8-.78.8-2.07 0-2.86zM5.41 20L4 18.59l7.72-7.72 1.47 1.35L5.41 20z\"/>\n",
              "  </svg>\n",
              "      </button>\n",
              "      \n",
              "  <style>\n",
              "    .colab-df-container {\n",
              "      display:flex;\n",
              "      flex-wrap:wrap;\n",
              "      gap: 12px;\n",
              "    }\n",
              "\n",
              "    .colab-df-convert {\n",
              "      background-color: #E8F0FE;\n",
              "      border: none;\n",
              "      border-radius: 50%;\n",
              "      cursor: pointer;\n",
              "      display: none;\n",
              "      fill: #1967D2;\n",
              "      height: 32px;\n",
              "      padding: 0 0 0 0;\n",
              "      width: 32px;\n",
              "    }\n",
              "\n",
              "    .colab-df-convert:hover {\n",
              "      background-color: #E2EBFA;\n",
              "      box-shadow: 0px 1px 2px rgba(60, 64, 67, 0.3), 0px 1px 3px 1px rgba(60, 64, 67, 0.15);\n",
              "      fill: #174EA6;\n",
              "    }\n",
              "\n",
              "    [theme=dark] .colab-df-convert {\n",
              "      background-color: #3B4455;\n",
              "      fill: #D2E3FC;\n",
              "    }\n",
              "\n",
              "    [theme=dark] .colab-df-convert:hover {\n",
              "      background-color: #434B5C;\n",
              "      box-shadow: 0px 1px 3px 1px rgba(0, 0, 0, 0.15);\n",
              "      filter: drop-shadow(0px 1px 2px rgba(0, 0, 0, 0.3));\n",
              "      fill: #FFFFFF;\n",
              "    }\n",
              "  </style>\n",
              "\n",
              "      <script>\n",
              "        const buttonEl =\n",
              "          document.querySelector('#df-3a4728da-14a8-4e5f-ae40-d00281ab0f5e button.colab-df-convert');\n",
              "        buttonEl.style.display =\n",
              "          google.colab.kernel.accessAllowed ? 'block' : 'none';\n",
              "\n",
              "        async function convertToInteractive(key) {\n",
              "          const element = document.querySelector('#df-3a4728da-14a8-4e5f-ae40-d00281ab0f5e');\n",
              "          const dataTable =\n",
              "            await google.colab.kernel.invokeFunction('convertToInteractive',\n",
              "                                                     [key], {});\n",
              "          if (!dataTable) return;\n",
              "\n",
              "          const docLinkHtml = 'Like what you see? Visit the ' +\n",
              "            '<a target=\"_blank\" href=https://colab.research.google.com/notebooks/data_table.ipynb>data table notebook</a>'\n",
              "            + ' to learn more about interactive tables.';\n",
              "          element.innerHTML = '';\n",
              "          dataTable['output_type'] = 'display_data';\n",
              "          await google.colab.output.renderOutput(dataTable, element);\n",
              "          const docLink = document.createElement('div');\n",
              "          docLink.innerHTML = docLinkHtml;\n",
              "          element.appendChild(docLink);\n",
              "        }\n",
              "      </script>\n",
              "    </div>\n",
              "  </div>\n",
              "  "
            ]
          },
          "metadata": {},
          "execution_count": 9
        }
      ]
    },
    {
      "cell_type": "code",
      "source": [
        "# Using Embed endpoint\n",
        "def embed_text(texts):\n",
        "  output = co.embed(\n",
        "      model=\"embed-english-v2.0\",\n",
        "      texts=texts\n",
        "  )\n",
        "  embedding = output.embeddings\n",
        "  return embedding"
      ],
      "metadata": {
        "id": "1acQjLgXb4A5"
      },
      "execution_count": 10,
      "outputs": []
    },
    {
      "cell_type": "code",
      "source": [
        "# Embeddings of all search terms\n",
        "df[\"search_term_embeds\"] = embed_text(df[\"search_term\"].tolist())\n",
        "# print(df[\"search_term_embeds\"])\n",
        "# print('\\n')\n",
        "embeds = np.array(df[\"search_term_embeds\"].tolist())\n",
        "print(embeds)\n"
      ],
      "metadata": {
        "colab": {
          "base_uri": "https://localhost:8080/"
        },
        "id": "U60o5hZicjQU",
        "outputId": "57a9a038-93e2-4fa3-a63f-d8bfe78d9e25"
      },
      "execution_count": 54,
      "outputs": [
        {
          "output_type": "stream",
          "name": "stdout",
          "text": [
            "[[ 1.9628906   0.1315918   2.1230469  ... -0.29833984 -1.3574219\n",
            "   2.3710938 ]\n",
            " [-0.04370117 -0.47460938  0.98339844 ... -0.40234375 -1.8457031\n",
            "   2.9746094 ]\n",
            " [ 1.4082031   0.4038086  -0.01279449 ... -0.34277344 -1.5292969\n",
            "   1.8701172 ]\n",
            " ...\n",
            " [ 2.5917969  -0.05551147  1.7724609  ... -0.20983887 -1.7636719\n",
            "   2.2597656 ]\n",
            " [ 1.6191406  -0.56591797  1.4794922  ... -0.07458496 -1.9589844\n",
            "   1.1845703 ]\n",
            " [ 1.8681641  -0.47998047  1.7529297  ... -1.5009766  -2.6347656\n",
            "   1.5849609 ]]\n"
          ]
        }
      ]
    },
    {
      "cell_type": "markdown",
      "source": [
        "## Semantic Search"
      ],
      "metadata": {
        "id": "qLJU_ooImMrr"
      }
    },
    {
      "cell_type": "code",
      "source": [
        "# Embeddings of new_query\n",
        "new_query= \"What is the purpose of hello world?\"\n",
        "new_query_embeds = embed_text([new_query])[0]\n",
        "# print(new_query_embeds)"
      ],
      "metadata": {
        "colab": {
          "base_uri": "https://localhost:8080/"
        },
        "id": "wRzQYZ0CnJXu",
        "outputId": "66e7a8bc-49ea-42f5-cc69-1a41b3a75603"
      },
      "execution_count": 66,
      "outputs": [
        {
          "output_type": "stream",
          "name": "stdout",
          "text": [
            "[-0.10211182, -0.45166016, 2.3144531, -0.15966797, 0.04675293, -0.66796875, -2.1074219, 1.21875, 1.2900391, -0.04638672, 1.5068359, -1.7753906, 2.0664062, 0.68652344, 0.796875, 1.4580078, 2.078125, 0.008880615, -1.5166016, 0.13549805, 1.6289062, 0.7495117, 1.7109375, -2.5605469, 0.039367676, 2.1074219, 0.34570312, -1.5429688, 0.0078125, -1.0644531, 1.0615234, 1.1113281, 2.0546875, 0.8544922, 0.27978516, -0.19238281, -0.4411621, 1.8466797, 0.8330078, 0.071777344, -1.4921875, 1.4394531, -1.3759766, 0.40844727, -1.6787109, -0.4963379, -2.8203125, 0.11071777, 0.4597168, -1.3164062, 0.8666992, -1.5615234, -0.32592773, 0.98095703, 0.1385498, -0.23999023, -1.0917969, -2.6582031, 1.3964844, -0.7421875, -0.035888672, 1.8056641, -0.21801758, -1.0800781, 0.7216797, 1.0859375, -0.2043457, 0.20507812, -1.9902344, -1.1347656, 0.8046875, -1.2099609, 1.1728516, -2.640625, 1.2373047, -0.07208252, -1.2294922, 0.6503906, -1.28125, -0.296875, -1.5976562, -0.30615234, -1.4306641, -1.734375, -0.24060059, -0.6308594, -1.0556641, 0.3059082, -1.1210938, 1.0214844, -1.5009766, 2.9257812, -0.11584473, 1.1787109, 0.31298828, 2.0175781, 0.23254395, 2.1503906, -3.6074219, 0.08337402, -2.3886719, -1.8320312, 0.9863281, 0.578125, -0.2939453, 0.60546875, 0.26342773, 3.3671875, 0.04284668, 1.0595703, -0.5029297, 1.6445312, -1.2158203, 1.2714844, -3.0117188, -0.5727539, 0.81152344, -0.26000977, -1.0175781, -0.22460938, -1.5888672, -0.17749023, 0.16601562, 1.0410156, 0.2565918, -0.37060547, 0.12780762, -1.1230469, -1.4902344, -0.20178223, 0.2088623, -0.14355469, 0.5996094, -1.4980469, 2.2324219, -1.3027344, -1.8447266, -1.2236328, -0.5522461, -4.4023438, 2.09375, -0.24121094, 1.5517578, 1.4345703, 0.8305664, -2.796875, -1.2871094, 0.027954102, 1.0566406, -0.1583252, 0.12890625, -1.0410156, -2.1210938, 1.4648438, -1.5175781, -0.36499023, 0.27075195, 0.13476562, 0.56152344, 0.32666016, -1.5439453, -0.8457031, 0.6176758, -0.7416992, 0.484375, 1.9316406, 1.1552734, 1.6425781, 0.34106445, -0.1430664, 0.0546875, 0.73779297, 2.0957031, 1.4013672, -0.54345703, -4.1835938, 1.2578125, 0.76708984, 0.8051758, -1.5996094, -1.171875, -0.64208984, 0.51171875, 1.5390625, -1.75, -2.625, -0.4958496, -0.6142578, -0.29052734, 1.2431641, -0.22949219, 1.8779297, -0.65625, 0.03817749, 0.7763672, 0.9916992, -1.3007812, -0.6308594, -1.1699219, -1.8027344, 1.5039062, 0.42041016, 1.3193359, -2.4257812, -0.6870117, 1.6113281, -0.68115234, -0.13232422, 0.32128906, 0.07696533, -0.88134766, -1.4169922, 1.0585938, 0.6850586, -1.2636719, 0.5126953, -0.8901367, 0.67578125, 1.5703125, -0.64990234, 1.4228516, -2.9238281, 0.7285156, 1.1240234, 1.515625, 3.09375, -0.06732178, 0.90283203, 0.89453125, -0.59814453, 1.3134766, -0.7055664, 1.6240234, 3.9804688, 0.13903809, -2.7304688, -0.9272461, 2.5234375, -0.0134887695, 1.4921875, -0.7290039, 2.5976562, 0.296875, 1.8574219, 0.1352539, -1.9482422, 0.30737305, 0.35058594, 1.0537109, 1.0615234, 2.1210938, -1.9003906, 0.20178223, -0.7631836, 2.7070312, 0.0010375977, 0.32421875, -1.2460938, -0.42919922, -0.1586914, 1.2402344, 0.8442383, 0.5620117, -0.09301758, -0.90722656, 1.5419922, -1.6328125, 2.2578125, -1.5400391, -0.051849365, 3.0859375, -0.13085938, 2.2929688, 0.74072266, -2.0878906, -0.64404297, -0.19726562, 0.94677734, 0.5605469, -1.3710938, 0.8100586, -0.6767578, 2.8964844, 1.8007812, 0.29418945, -1.1396484, -0.7089844, 0.8652344, 3.2988281, -0.29101562, -0.3569336, -0.43896484, -1.9316406, -2.2304688, 0.06567383, -0.3815918, -0.19873047, 0.54003906, 0.45922852, -0.050964355, 0.37451172, -2.5234375, -0.6542969, -0.07775879, 0.94189453, -0.9790039, 1.9121094, 1.2939453, 0.3618164, -0.6176758, -0.05303955, -0.71777344, 1.5732422, 1.5175781, -0.6088867, -1.0644531, -0.005126953, -1.8037109, -1.7246094, 1.0146484, 0.32373047, -0.7451172, 1.3085938, -1.7792969, -0.3618164, -0.88671875, 0.9111328, -1.0126953, -0.076660156, -0.9296875, 1.4599609, 0.38549805, 1.8857422, 0.8569336, -2.7207031, 0.01940918, -0.4038086, -3.78125, -0.7817383, 0.22644043, 2.7285156, 1.2685547, -0.55371094, 0.390625, -0.85595703, 1.0615234, 1.1650391, 2.7226562, 0.89404297, -0.84472656, -2.375, -0.65625, 0.17602539, -0.875, -1.6005859, -2.4375, 0.18823242, 0.49267578, 0.007751465, 3.421875, 0.3798828, -0.2019043, -1.0244141, 0.5332031, -0.58251953, -1.0800781, 1.4589844, -0.20300293, 0.26757812, -0.66552734, 0.79833984, 1.5654297, -0.5292969, -0.014892578, -0.06958008, -3.0800781, -0.23803711, -0.875, -0.6879883, -1.4599609, 1.2099609, 1.5019531, -0.91259766, -1.1113281, -1.1123047, 0.39868164, -1.859375, 1.4912109, -2.6757812, 1.2148438, 0.6767578, -1.2519531, -0.056671143, -0.31274414, 0.73339844, -1.5458984, -0.34399414, -0.46289062, 0.29296875, -1.921875, 0.06726074, -1.7460938, -0.984375, -1.0605469, -0.3725586, 0.51171875, 1.2226562, 0.83496094, 0.5263672, -1.8076172, -1.0664062, -1.4169922, -0.14782715, -1.0039062, -0.08947754, 0.7939453, -1.3408203, 0.50146484, -1.7167969, 0.08239746, -0.068237305, 0.46166992, 1.8291016, -1.1513672, -0.3947754, -1.2265625, 0.74121094, -0.36669922, -1.2128906, 0.5004883, 0.52490234, -1.2226562, -1.7070312, -0.19763184, -0.85058594, -1.7714844, 0.046173096, -1.3076172, 2.265625, -0.6933594, -2.0253906, -1.6777344, -0.21130371, -1.9414062, 0.8881836, 3.234375, 3.5703125, -0.2644043, 2.609375, 2.8203125, -0.40185547, -2.0898438, 0.35986328, -0.43066406, -1.2363281, 1.109375, 0.9453125, 1.7285156, -1.0751953, -0.56640625, 1.0546875, 3.4082031, -0.1665039, -1.59375, 3.7109375, 2.1171875, 1.8613281, -1.046875, -0.93408203, 0.78271484, -1.2753906, -1.0703125, 2.8496094, -0.018066406, -2.3632812, -0.3935547, -2.65625, -0.095947266, -0.15148926, 3.0585938, -1.265625, -0.9091797, 1.4150391, 2.7148438, 0.30566406, 0.61083984, 0.86572266, 3.1503906, 0.14575195, -0.40820312, 1.0429688, -0.4897461, -1.5507812, 0.6484375, -0.35961914, -0.1586914, -0.31030273, 0.017578125, -0.44799805, 0.9790039, 0.58984375, 0.2836914, -0.23364258, 0.2208252, 0.27856445, -0.11450195, 0.013282776, 0.14794922, 1.4150391, 0.7128906, -0.14331055, 0.35205078, 1.1640625, 0.5751953, -2.6835938, 0.7729492, -2.171875, -1.5478516, -0.64697266, -0.9370117, 0.19250488, -0.7607422, -2.0917969, -0.41308594, 1.7421875, 1.2275391, 0.97558594, -0.43725586, -0.03741455, -0.5649414, 1.1357422, -1.3691406, 0.16357422, -2.09375, -1.3505859, 0.4658203, 0.20422363, -0.27661133, 0.4501953, 0.29516602, -3.0273438, -0.65722656, -1.1660156, -0.71191406, -2.0507812, 2.5546875, 1.2773438, 2, -2.1875, -2.1328125, -2.6542969, -0.3022461, -0.58691406, 0.06137085, -0.34301758, 0.73828125, -2.3808594, -0.77246094, -2.8359375, 0.44677734, -1.8095703, 1.5175781, 0.3864746, -1.6191406, -0.29882812, -0.20617676, -0.099853516, -0.80859375, 0.21289062, -0.7246094, 0.4506836, -1.1445312, -0.7871094, -0.26757812, -1.1933594, 0.4975586, -0.68310547, -0.12548828, -1.2148438, 0.5908203, -0.6123047, 0.20349121, -1.2109375, -1.3828125, -1.2792969, 1.4033203, 1.734375, 0.03564453, -0.30200195, -2.4101562, -3.2070312, 0.8486328, -0.4584961, 1.2578125, 1.7392578, -2.9609375, -3.0390625, -0.14880371, 1.3789062, 0.027862549, 0.11645508, 0.8901367, -0.7758789, -0.3708496, -0.42651367, 1.6484375, -2.2128906, 0.41430664, 1.0292969, -0.24743652, 1.3818359, 1.03125, 0.009155273, 0.76953125, -0.34155273, -1.4873047, 0.21020508, 0.30371094, -0.44921875, 2.6835938, 0.53808594, 2.7773438, 0.084472656, 2.1621094, 1.7490234, 0.30908203, -2.734375, 0.93359375, 0.39916992, -0.8256836, 1.5087891, -0.45947266, 2.7539062, 0.19689941, 1.6044922, 2.515625, 0.5566406, 1.0400391, -0.7104492, 0.515625, 0.06329346, -0.5888672, 1.7001953, -0.77734375, -0.042175293, -0.7392578, -0.45898438, -1.3017578, -0.79785156, -0.9404297, 0.72509766, -0.79296875, -0.020202637, -1.765625, -1.8642578, -0.7089844, -0.28076172, 0.6328125, 0.4375, 0.26904297, -0.039794922, -0.14233398, -0.24572754, -0.21582031, 1.6669922, -1.5097656, -2.3671875, 0.51660156, -0.33251953, 1.8320312, 2.8222656, -0.6191406, -2.1484375, -2.7851562, 0.64990234, -0.25219727, 1.4658203, 0.19946289, 1.7578125, 2.2988281, -0.55615234, 1.7089844, -1.7802734, 1.0244141, -2.1425781, 0.6225586, -0.21020508, -1.5292969, -0.32666016, 0.7792969, 1.9492188, -0.921875, 1.1464844, 1.9667969, -1.4003906, 2.1816406, -2.2265625, 1.4648438, 1.7519531, -1.3730469, -0.13256836, 0.3256836, -0.91015625, -0.9003906, -0.87158203, 0.69628906, 1.9326172, 0.93408203, 1.2050781, 1.3974609, -1.0712891, 1.0576172, 1.0234375, 0.58496094, -0.74316406, -0.20947266, 1.9453125, 2.9492188, -0.032714844, -3.15625, 1.9111328, 1.5146484, -1.6396484, -2.6542969, 0.75439453, -0.8588867, -1.4052734, -1.2373047, -0.12573242, 2.1152344, -1.3632812, -1.0439453, -0.21923828, -0.2919922, 0.18481445, -1.0166016, -2.1953125, -2.5546875, -1.1650391, -2.5234375, 1.2988281, 1.7724609, 2.4355469, -0.22021484, -1.7402344, -1.5195312, -2.4550781, -1.5957031, -1.2753906, -1.5058594, 0.38623047, -1.9765625, 0.20996094, -0.43701172, 0.41381836, -1.0292969, -1.3818359, 1.46875, 0.7236328, -0.16760254, 0.7558594, 0.0107421875, 0.3425293, 2.6699219, -0.4489746, -1.0253906, 0.40551758, -0.22094727, -0.61621094, 3.2871094, -0.43530273, 0.82470703, 0.40185547, 1.2998047, -1.0546875, -2.2773438, 2.2363281, 1.7109375, 3.5195312, 2.2207031, -0.39526367, -1.0732422, 1.5195312, 1.6445312, 0.25268555, -0.6816406, 1.0996094, -1.6767578, -3.3046875, 3.5195312, 0.19335938, -0.27319336, 0.09765625, 1.0566406, -0.22192383, -2.2480469, 1.6552734, 1.0234375, -0.78808594, 1.2705078, -2.1640625, 2.84375, -0.09020996, -1.1513672, -2.984375, 1.1816406, -0.67578125, -0.46020508, -0.7553711, -1.2792969, 0.3203125, -1.6474609, -0.9926758, 0.59716797, -0.50097656, -2.0527344, 1.9990234, 0.08728027, -2.5097656, 0.96777344, 0.71972656, -1.0488281, 0.3647461, -1.5292969, 0.6513672, -0.0769043, 0.21166992, -0.5957031, 0.24389648, 0.77978516, 0.48754883, 1.3193359, 0.63134766, -2.7597656, 0.51953125, -1.4736328, -1.3261719, 2.3730469, 0.7270508, 1.0576172, 1.1289062, 0.21313477, -0.3720703, 1.8417969, 1.2685547, -2.1660156, 0.7441406, 1.6455078, -0.17614746, -2.1074219, 1.9921875, 1.1308594, -0.70214844, 0.5341797, -3.6660156, 0.015563965, -1.2636719, -2.2792969, 0.64990234, 0.6274414, 3.2421875, -2.2851562, 0.25927734, 0.9067383, -2.4960938, -1.7460938, -1.0527344, 2.0449219, -1.7255859, 0.47851562, -1.7929688, 0.35473633, 0.43164062, 1.4990234, 0.7246094, 1.453125, 0.34326172, 0.29638672, -0.19836426, 3.0976562, -0.11755371, -0.5654297, -0.18579102, -2.0195312, 1.9287109, 1.5283203, 1.3046875, 1.5957031, 1.9990234, -4.7890625, 0.6220703, 0.6064453, 1.9140625, -0.51171875, -0.8232422, 0.21850586, 1.4335938, -0.43432617, 2.0351562, -1.5800781, -1.4492188, 1.0527344, -1.5341797, 0.23498535, -0.5024414, 0.52197266, -1.5322266, 1.2080078, 1.2900391, -0.51904297, 1.1875, -0.28027344, -1.6835938, -0.05303955, -1.0859375, -1.5400391, -1.578125, -0.44604492, -1.9257812, -1.9003906, -0.8066406, -1.359375, 0.5986328, 3.0664062, 0.25976562, 0.40039062, -0.6948242, 0.78759766, -1.2949219, -1.3408203, 1.5957031, 0.8564453, 0.14440918, 0.58251953, -1.0673828, 1.2324219, -0.70166016, 2.296875, -1.6962891, -0.7871094, 1.0136719, -1.1298828, -0.021484375, 2.1855469, 0.3544922, 0.35961914, -0.8359375, 0.8457031, 0.31347656, 2.1289062, -0.53808594, -0.8769531, 0.86376953, -0.85791016, -1.6962891, 1.7119141, -0.7402344, -1.1474609, 1.5517578, 1.2763672, 0.056030273, 0.9770508, -1.3896484, -0.11645508, -0.22802734, 3.8144531, 1.6386719, -0.48291016, 1.2958984, 1.2617188, 2.34375, -0.69677734, 2.0898438, -0.4501953, 0.52490234, 0.5932617, 0.6875, -0.079833984, 1.4667969, -0.2854004, -1.3867188, 0.4584961, -2.1269531, -0.9902344, -1.3095703, 0.29785156, 2.2988281, 2.5410156, -1.5244141, 2.3789062, 0.20996094, 1.3710938, 2.6269531, 1.296875, 0.115600586, -2.6308594, -0.98095703, 2.3613281, 0.55566406, -1.9824219, 0.8354492, -0.1307373, 1.6914062, 0.6220703, 0.7631836, -0.8930664, 0.54541016, -1.0078125, 0.34716797, -1.8173828, -1.828125, 0.07507324, 0.34423828, 0.5756836, 0.087646484, 0.5605469, 0.4255371, 0.73583984, 1.4082031, 1.4912109, -1.3671875, 1.6113281, 0.27929688, -0.2409668, 2.1484375, -0.53515625, -0.37768555, 1.21875, 0.19140625, 1.3896484, -1.6328125, 1.2412109, 2.9179688, 0.28710938, 3.1464844, 0.8857422, 0.9902344, -0.030517578, 1.2402344, 0.5673828, 1.0527344, 0.6142578, 1.5996094, 2.5703125, 1.1835938, 1.3398438, 0.75097656, 0.30004883, -0.74902344, 0.5390625, -2.7675781, -0.3647461, 1.8027344, -1.3984375, -0.2553711, -0.7373047, -0.2133789, 1.6728516, 3.0390625, -0.26123047, -1.1640625, -0.16052246, 0.8388672, -4.8632812, 0.69921875, 0.29638672, -0.8911133, -0.69921875, 0.037719727, 1.0019531, 2.1757812, 2.0507812, 1.2597656, 1.7744141, 1.3300781, 0.73828125, -1.2138672, -0.12207031, 0.26342773, -0.061462402, 0.14611816, -2.1953125, -0.8852539, -1.4404297, 1.4882812, -0.3515625, 0.040649414, -1.5439453, 0.27954102, -0.13415527, 1.3730469, 0.17883301, 0.4140625, -0.45214844, 0.6386719, 1.7304688, -0.08520508, -1.4882812, -0.96533203, 4.8554688, -3.1992188, 0.3815918, 0.4206543, 1.0947266, 0.6152344, 0.09387207, 1.0185547, -0.072265625, -0.56347656, 1.2792969, -1.3808594, -0.93359375, 0.6557617, -0.025268555, 1.5859375, -0.6586914, 0.61328125, -0.046936035, 0.6635742, 0.15344238, 0.33129883, -0.09680176, -1.8857422, 0.13098145, -1.8203125, -2.4082031, -1.0869141, -1.3164062, 2.1386719, -0.22241211, -0.4086914, -0.08331299, 1.6025391, 0.4802246, -1.8652344, 0.9116211, -0.25634766, 0.8955078, -0.12109375, -0.72998047, -0.24853516, 0.0060424805, 0.8300781, -0.33544922, -1.4023438, 0.054626465, 2.0722656, -0.121032715, 2.0019531, 0.1373291, -0.18591309, -0.07727051, 0.3203125, 0.2434082, 2.4550781, -4.5351562, 0.5761719, 0.50341797, 0.140625, -1.7978516, 1.0244141, 0.6459961, -0.047454834, -2.9082031, -2.1796875, -0.2524414, -0.6303711, 0.5136719, 2.2304688, 0.9213867, -2.5234375, 0.62158203, -0.7709961, 0.57910156, -0.19470215, 1.1513672, 1.0722656, -0.4580078, 0.53808594, 1.1533203, 1.3671875, 0.49536133, 0.7265625, 1.2460938, -0.5332031, 2.9296875, 0.18933105, -0.5859375, 0.93359375, -2.8828125, -0.15942383, 0.89697266, 1.2763672, -1.0712891, -1.1572266, -0.66552734, 2.3632812, 0.53027344, 0.7285156, 2.4453125, 0.9301758, -0.16845703, -0.9428711, 1.0341797, -1.6035156, -0.34179688, -2.9921875, 0.24707031, 2.1796875, 1.7880859, -0.97216797, -0.85546875, 1.0615234, 0.7661133, -2.1210938, 0.12286377, 1.8691406, 0.76464844, 1.2148438, -1.4824219, 1.015625, 1.0068359, 1.2324219, -1.1308594, 1.8378906, 1.2744141, -0.21655273, -0.33081055, 1.9912109, -0.08758545, 0.83984375, 0.007751465, -0.12939453, -1.1445312, -0.9086914, 0.5493164, -0.10675049, 1.1816406, -0.61328125, -0.025405884, 1.2050781, 0.8105469, 1.9179688, -1.5664062, -1.3457031, 0.43115234, -0.23840332, -0.42333984, -1.1318359, 1.5800781, -0.52490234, 0.7373047, -1.9902344, 1.2226562, -0.21081543, -2.5625, -0.042144775, 1.9599609, 0.15441895, -0.047851562, -1.1689453, 2.0546875, -0.099853516, 0.7841797, -1.1347656, -1.7607422, -0.7290039, 0.87939453, 0.3786621, 0.06976318, 1.59375, 0.98779297, 0.08660889, 2.2988281, 0.06726074, -1.0859375, -0.64160156, -0.42700195, -0.5957031, 1.3388672, -0.13122559, -2.8847656, -0.43701172, -0.38989258, 1.1835938, -1.4960938, -0.41308594, 0.05682373, 0.89990234, -2.3496094, 1.7880859, -0.7792969, 1.5410156, -0.12310791, 2.8222656, -0.9814453, -0.49365234, -0.25097656, 0.71191406, 0.103393555, 1.6572266, 1.2919922, -1.0654297, 0.26904297, -0.4255371, 1.5849609, 0.83984375, -0.5239258, 0.30249023, -1.2753906, -4.6523438, 0.8569336, -0.44433594, 2.5332031, 1.0742188, 0.19628906, 0.47705078, 0.34399414, 1.7177734, -0.84765625, -1.4560547, -0.50439453, 1.5195312, -2.71875, -1.7802734, 0.7861328, -2.9667969, 1.4765625, -1.3945312, -0.09051514, 0.43139648, 0.33764648, -0.3798828, 0.68652344, -0.4716797, 2.8867188, -0.30297852, 0.08477783, 0.9770508, 0.2685547, -1.7216797, 0.03552246, -1.1962891, -0.5551758, -1.1455078, -1.1826172, 0.19567871, -0.75097656, -4.375, 3.1464844, -0.5161133, 0.09442139, 1.8964844, -0.4807129, -0.8120117, -0.79052734, 1.7304688, 0.80908203, -0.57177734, 2.8378906, 1.0849609, 1.1103516, -0.56640625, 0.5371094, 2.8300781, 2.203125, 1.1826172, -0.086242676, 3.6816406, 0.5751953, -0.20629883, 0.28198242, 1.3027344, 1.7714844, 2.125, -1.0791016, -1.0986328, 1.2333984, 0.030151367, -2.0507812, 0.01550293, -0.29077148, 0.022781372, 0.10119629, 1.8632812, -2.5566406, -1.4003906, -1.890625, -1.1171875, -0.9472656, 1.2304688, 0.34814453, 3.0742188, 1.7792969, 1.7363281, 1.6523438, -0.8676758, -3.5429688, 0.72558594, -0.21691895, 2, 0.8208008, -0.65234375, -1.0859375, 0.65234375, 1.6601562, -0.54785156, -0.43041992, 0.43603516, 0.09088135, -1.5253906, 2.625, -0.9394531, -1.2978516, -0.6904297, -2.1914062, -1.1982422, 0.2697754, -1.25, -1.4179688, 0.05053711, 0.5830078, 0.2298584, -0.23266602, 2.7539062, -1.2373047, 0.7949219, 0.14074707, -1.3388672, 0.011489868, 0.11328125, 0.33374023, 0.6767578, 0.16687012, 0.90625, 0.22607422, 1.5029297, 0.25097656, 2.1914062, -1.5195312, -0.6035156, 3.1191406, 0.91259766, -2.0039062, 0.063964844, -1.8242188, 0.3154297, -0.97558594, 1.5527344, 0.27001953, -1.1572266, -2.4140625, -1.4375, -0.028930664, 1.0019531, 0.5332031, 1.4814453, -0.8125, 0.32104492, -0.24926758, 0.022415161, -0.24401855, -1.6542969, -1.1103516, 1.9042969, 0.18652344, 1.0820312, -1.2851562, 0.023834229, 1.8867188, 2.265625, 0.042785645, 1.1318359, 2.140625, 1.8066406, 2.9335938, 0.059753418, -0.34350586, -1.4589844, -1.7646484, 0.07751465, 0.48266602, -1.5693359, 0.37573242, 1.0234375, 1.7675781, -1.2138672, 3.1230469, -0.8071289, 1.0703125, -1.609375, 2.2773438, -1.5507812, -2.1015625, -0.6699219, 2.4179688, -0.5776367, 0.1694336, -0.70703125, 0.1427002, 0.53027344, -0.002166748, 0.5317383, 0.5678711, -1.0195312, 0.8701172, -0.7368164, -2.8046875, 0.03363037, -0.203125, 1.2324219, -0.8852539, -2.921875, 1.8349609, -0.34716797, -1.7119141, -1.9960938, 0.1887207, -0.5317383, -1.7783203, 3.1054688, 1.7412109, -0.3955078, 0.24926758, -0.27368164, 1.4677734, 3.1640625, 1.1054688, 0.9550781, -1.3789062, -2.2089844, -1.1152344, -1.5478516, -2.140625, -0.6586914, -1.5332031, -1.3496094, -1.8388672, 1.1376953, -2.1054688, 1.4179688, 1.1972656, 0.6982422, -0.6044922, 1.2929688, 0.7128906, 2.0996094, 0.14245605, -1.4052734, 1.2822266, 0.7714844, 0.10681152, -3.453125, 0.6020508, -0.41796875, 2.0371094, -0.046203613, 0.63427734, -0.61621094, -0.78515625, -1.3076172, -0.4140625, -0.76464844, -1.0761719, -0.09320068, -0.3071289, -0.35375977, 1.8125, -0.77783203, -1.6884766, -0.41259766, 1.5615234, 0.1541748, -2.6328125, 1.2519531, -0.6542969, -1.0390625, 0.7001953, -0.17749023, -0.91015625, 0.6875, -0.5175781, 1.8681641, 0.8466797, 1.0302734, 1.2167969, -0.2944336, 1.9423828, -1.0585938, 1.1503906, 1.5751953, -1.7265625, -0.9472656, 0.59521484, 1.0585938, -1.0214844, -2.2792969, 0.34521484, 2.4726562, 0.79345703, 0.5620117, -0.6118164, 0.9453125, -0.9848633, -0.22558594, 0.113464355, 1.9208984, -0.11340332, -1.3955078, 1.3652344, 0.6821289, 0.40014648, -1.3613281, -0.5029297, 2.0683594, 1.8017578, -1.1328125, -0.8984375, -1.4208984, 0.7426758, 1.9199219, 0.48999023, -0.07299805, -1.1708984, 2.1269531, -1.2695312, 0.11975098, 0.37841797, 1.2890625, 0.13879395, -1.7460938, 3.6679688, 0.88378906, 1.3544922, -0.25561523, -0.8027344, -1.2080078, 0.10913086, 0.98535156, 1.5537109, 2.9277344, -0.39453125, 3.4453125, 0.41967773, -1.8955078, 1.6015625, -0.40698242, -0.5161133, 0.84521484, 0.43969727, -0.34545898, -1.4355469, 0.51220703, -0.3635254, 0.984375, -0.3083496, -0.10827637, 0.19421387, -1.0097656, 1.3222656, -0.86279297, 0.6660156, -1.3173828, 1.7792969, 0.45532227, -1.46875, 0.59814453, -2.1816406, -0.107299805, 2.890625, -1.0703125, -0.25146484, -2.3828125, 0.87939453, -0.8613281, -1.7958984, 2.6210938, -0.8095703, 1.8398438, 1.3935547, 1.4238281, -0.061950684, 1.5292969, 0.5913086, -0.8925781, -0.47143555, -1.0361328, -0.15478516, -1.5449219, -0.3544922, 1.6650391, 0.70654297, -1.8408203, 0.5488281, -2.0722656, -1.6953125, -0.5366211, 0.24621582, 0.106933594, -1.7480469, -1.5292969, -0.7973633, 0.77441406, -0.32080078, 0.9482422, 0.83447266, 0.84033203, -0.5463867, 0.34472656, 0.4165039, 0.55371094, 1.7724609, 0.7475586, 1.2646484, 1.3896484, 1.6953125, 0.04031372, -1.171875, -0.56884766, 1.125, -0.037963867, 1.4667969, 0.09112549, -0.28857422, 0.4946289, -0.66015625, 2.2617188, 1.875, 0.3503418, 0.6484375, -1.8457031, 0.8881836, -1.1103516, 0.6533203, -0.042236328, 0.33862305, 1.2519531, 0.032104492, 2.3007812, -0.20410156, 0.4399414, 0.08282471, -0.10046387, -1.2050781, 2.7246094, 1.9511719, 0.58154297, -1.1367188, -0.53808594, 0.8779297, 3.8046875, -1.1054688, 1.0673828, -1.6699219, -2.6757812, -1.3769531, 0.9838867, 0.06262207, -1.5664062, -1.4736328, 2.6816406, -0.26123047, -1.7822266, 1.6328125, -0.9741211, 0.49072266, 1.1152344, 1.6767578, 1.5126953, -0.31298828, 0.076538086, 0.515625, -0.2602539, -2.5625, 1.2714844, -0.87109375, -1.1992188, -1.7080078, 0.16394043, -1.4101562, 0.43774414, 1.59375, -0.09484863, -0.32958984, 0.9921875, -0.50390625, -1.4121094, 0.7792969, 0.36865234, -2.296875, 0.9042969, -0.85546875, -1.6503906, 0.11767578, -2.2226562, 4.453125, 0.7470703, 0.6191406, -0.08618164, -0.6948242, 0.0395813, -0.37841797, -1.1572266, -0.3190918, 0.1315918, 1.375, -0.0077819824, -2.5117188, -0.578125, 1.2910156, -1.5263672, -4.3046875, -0.3317871, 0.98291016, -0.14050293, -0.4807129, -0.41552734, 0.6591797, -3.03125, 1.3134766, 0.39770508, 0.17700195, 0.09020996, -0.11883545, 2.3398438, -1.2011719, -2.453125, -0.8227539, 0.95751953, 0.47729492, 0.026977539, 0.22167969, -1.1181641, -0.9379883, -2.0585938, 1.8144531, -1.0830078, -3.0917969, -1.9375, -0.07867432, -0.6323242, 2.5332031, 0.29882812, -2.9238281, 0.5786133, -1.4355469, -0.117004395, 2.0585938, 0.99072266, 0.7324219, -0.5727539, 1.5957031, 1.5410156, -1.2099609, 1.0224609, -0.42895508, 0.4519043, -0.0579834, 0.40112305, -0.068237305, -0.68652344, 3.0371094, 1.8466797, 1.1904297, 1.5371094, -0.064453125, 0.9609375, 0.5161133, -0.15600586, 0.43847656, -0.42211914, -0.69628906, -0.95214844, -1.3496094, 1.4003906, 0.9238281, 1.8417969, -0.068115234, 0.46875, 0.73779297, -1.0625, 0.1887207, 1.9462891, 0.7050781, 1.1757812, -0.62890625, -1.5634766, -2.4472656, -1.4404297, -0.5957031, 1.4648438, -1.5742188, 0.8276367, -1.3710938, -0.47607422, -1.7714844, -0.29589844, -0.28735352, 0.41845703, 0.95458984, -0.28710938, -1.2451172, -0.43188477, -0.19506836, 0.32299805, 0.43603516, -0.77441406, -0.43603516, 1.0019531, 0.79248047, 0.71435547, 1.8857422, -0.73339844, -2.7519531, 1.6601562, -0.21594238, -0.5908203, -0.31958008, 0.00869751, 0.24047852, -0.04071045, 0.79248047, -0.6269531, 2.3417969, 0.609375, 1.4902344, 1.2480469, 4.4960938, 0.18286133, -0.24438477, -2.2929688, 2.3535156, -1.1425781, 1.2685547, -0.17016602, 0.5463867, -0.8989258, 1.3232422, -3.9414062, -0.25073242, 0.5107422, 2.2207031, 2.2070312, -0.0015258789, -0.007446289, 1.2568359, -1.1259766, -0.011779785, -0.2133789, -0.21289062, 0.5410156, -1.1318359, 0.12609863, -2.7617188, 0.52685547, -0.0078125, -1.0166016, -0.020324707, 1.484375, -0.81640625, -1.1601562, -2.9980469, -2.2148438, 1.5234375, 3.8496094, -0.38623047, 0.36450195, -1.0292969, -0.8076172, 1.4130859, 3.4785156, -0.7138672, 0.15356445, -0.09625244, -0.5131836, 1.6074219, 1.5078125, 0.109313965, 0.5078125, -0.12646484, -1.2412109, 0.41308594, -0.53466797, 1.1777344, 1.3652344, 1.4677734, 1.9160156, 0.7011719, 1.578125, 0.7758789, -3.2558594, 0.43530273, -0.87402344, 0.8359375, 1.0869141, 1.6171875, 0.60253906, -1.5009766, -2.46875, -2.6679688, -0.3173828, 1.2207031, 0.69091797, -0.7441406, -2.546875, 2.2226562, -0.5493164, -2.4804688, -0.5986328, -1.1630859, -1.4121094, -1.421875, -0.6376953, -0.3630371, -0.57910156, -0.24389648, -0.5449219, -2.4628906, 0.06866455, 0.13305664, -0.050720215, -0.30078125, -0.6230469, 0.24707031, -1.2929688, 0.30517578, -1.4013672, -0.51416016, -1.5078125, 1.5234375, 4.5898438, 0.44458008, 0.50683594, 0.9116211, -0.022872925, 0.91845703, -1.109375, 0.21850586, -0.4404297, 0.38378906, -2.3515625, -0.6972656, -0.9667969, -0.61083984, -0.19421387, 2.2246094, -0.28857422, -0.22497559, -1, -0.5444336, -1.4287109, 0.86083984, -0.46826172, -0.25390625, -0.41625977, 1.65625, -0.2644043, 3.0546875, -2.4824219, -1.3125, -3.953125, -2.5527344, 2.9921875, 1.2773438, 0.50927734, -1.4970703, -0.0703125, 0.6557617, 0.48291016, 1.2119141, -0.26123047, 1.28125, 1.7138672, 1.2490234, 0.18237305, -2.2695312, -0.9868164, 1.3818359, 2.3945312, -0.44628906, -0.26660156, 0.41796875, -1.1816406, -0.58203125, 0.13757324, -2.4394531, 0.68066406, 2.625, 0.18554688, 3.0371094, 1.53125, 0.48583984, 1.4736328, 0.6953125, -1.109375, -0.5629883, -0.7338867, -0.8955078, -1.0292969, -0.41357422, -0.5996094, -1.8076172, 0.36572266, 0.57421875, 0.52685547, -0.39672852, 1.2324219, 1.5410156, 0.81347656, -0.30664062, 0.9448242, 1.0449219, -0.016845703, 1.2988281, -0.07946777, -0.83691406, 1.1621094, 1.6865234, -1.546875, 2.6503906, -0.23864746, -1.1181641, -0.9868164, -0.7714844, 0.56689453, -0.24951172, -0.57714844, -0.42114258, -1.6220703, -1.0546875, -0.07385254, -1.6064453, 1.6787109, -2.8828125, 1.9960938, -0.62597656, 0.6640625, 0.76464844, 1.8574219, -0.17236328, 0.9086914, -1.1142578, -1.5673828, 1.8759766, -0.103393555, 0.2277832, 0.1821289, 0.71972656, 0.66503906, 0.60058594, 0.8359375, 1.2294922, -1.0234375, -2.3359375, -1.3544922, -1.3583984, -1.0800781, 1.2089844, -0.6616211, -0.90234375, 0.12109375, -0.57910156, 3.0976562, -1.2324219, -0.4206543, -1.7441406, 2.6835938, 0.26489258, 0.8413086, 1.2089844, -1.3759766, 1.0878906, -0.023406982, 0.44360352, 1.2587891, -2.15625, 0.6069336, -1.2109375, 3.8554688, -3.1132812, 3.6015625, -1.3427734, 0.90722656, 0.69873047, 0.34423828, 0.6166992, 0.9423828, 2.0429688, 0.7993164, 0.9326172, -4.328125, -1.4394531, -1.3251953, -1.7753906, -1.2431641, -1.0195312, 0.3400879, 0.69873047, 0.6665039, 0.76660156, 1.5019531, 0.08239746, 0.30981445, -2.0488281, -0.95166016, -1.0292969, -0.78808594, -2.3125, 1.8466797, 0.40234375, 0.66259766, -1.2724609, 0.18408203, 1.2089844, -1.7021484, -1.5234375, -0.4091797, -0.79003906, 0.082092285, 0.50390625, -1.2421875, -0.11138916, -0.023071289, -1.7880859, -0.5908203, 0.65234375, 0.5625, -0.76953125, -1.1757812, 0.49267578, -2.7675781, -0.19006348, -1.6054688, 0.39819336, -0.46069336, -2.3183594, 0.60253906, -0.0061187744, 1.6484375, 0.63623047, -0.6694336, -2.6757812, -1.2480469, 2.6347656, -0.57666016, 0.39892578, 1.8730469, -0.12030029, -0.8183594, -0.076293945, 0.95458984, -1.9941406, 0.60253906, -1.0830078, 0.79296875, -0.0211792, 0.26342773, -0.15856934, 0.42456055, -1.9521484, -1.0869141, 1.2050781, -0.16052246, 1.1191406, -0.23706055, 3.8144531, -2.234375, -2.1425781, -1.3554688, -1.5439453, -0.32763672, -0.26611328, -1.4589844, 0.5654297, 0.4946289, 1.6523438, 1.4824219, 2.2246094, -0.03161621, -0.35473633, -2.9863281, 0.2553711, -0.3935547, 1.6875, -1.5488281, -1.4951172, -2.0253906, 2.3691406, 1.8339844, 0.49169922, 1.0322266, 0.36279297, -1.1113281, 2.3359375, 0.33203125, -0.13293457, -0.36816406, -1.2763672, 0.29492188, 2.3105469, 0.93066406, 0.56689453, -0.13598633, -2.1074219, 0.7988281, 0.79541016, 0.6425781, -1.7919922, 2.0273438, 2.984375, 1.6123047, 1.1767578, 0.31567383, -0.047424316, 0.3166504, 0.31933594, -1.1708984, -0.19665527, 2.5117188, 0.8017578, 1.6591797, -1.2490234, 2.5136719, -1.5820312, -1.3291016, -0.012481689, -0.7753906, -0.90625, 0.80371094, 0.8984375, -0.09057617, -0.796875, -0.82470703, 0.79589844, -0.16894531, 0.91748047, -3.3085938, 0.41137695, -0.4477539, -1.7978516, 1.4111328, -0.5527344, -0.8930664, 1.0107422, 0.89160156, -1.2177734, -1.4238281, -0.21228027, -1.5253906, -0.3137207, -0.8779297, -0.8222656, 0.84472656, -1.0498047, -0.5102539, -0.4658203, -0.7260742, 0.58935547, -0.10217285, -0.84277344, 0.7939453, 0.08520508, 0.06939697, 0.7138672, 0.39648438, -0.9243164, -3.8828125, -1.1064453, 0.35498047, -1.140625, 0.40649414, 1.5009766, -1.5742188, 2.6074219, -1.0517578, 0.3779297, -1.2451172, 0.9272461, -0.5834961, 0.46875, -1.6025391, -1.8183594, 1.3818359, -0.953125, -1.1230469, 0.22033691, -0.057617188, -0.2084961, 1.9941406, 1.3417969, 0.7753906, 1.4394531, 0.61083984, -2.3261719, -0.82421875, -1.9140625, 2.4238281, -0.875, -1.2539062, 0.29638672, 0.92529297, -0.5566406, 1.4912109, 0.50439453, -1.4394531, 1.1845703, 0.7441406, -1.0771484, -0.7758789, 1.2783203, -1.6806641, 1.2294922, -2.015625, -0.9814453, 0.85546875, -0.17480469, 1.2402344, 0.5751953, -0.44360352, -0.5834961, -1.0361328, 0.04248047, -1.9716797, -0.49804688, 1.0791016, 1.2324219, -1.6953125, -0.4802246, 1.265625, 0.3479004, -0.63720703, 0.18603516, -1.0732422, -1.8056641, -0.0793457, -0.30908203, -0.2607422, 1.0830078, -0.98876953, -1.4306641, -0.37768555, -0.20166016, -3.3984375, 2.3476562, 1.0693359, 0.15905762, -0.36499023, 1.4619141, -1.4179688, -0.9169922, 1.4609375, 3.0195312, 0.0030212402, -2, 0.37670898, 0.17736816, -1.3339844, 0.640625, 0.78759766, 0.19433594, 0.82714844, 0.8618164, 0.23254395, -2.2167969, 0.19604492, 0.52246094, -0.43139648, 0.6953125, 1.8427734, 1.6240234, 1.9316406, 1.2265625, 1.0439453, 1.53125, 0.6689453, 2.1191406, -2.265625, -0.0335083, 1.7363281, 2.1210938, -2.8691406, -2.3183594, 0.9716797, -0.36279297, 1.1757812, 0.99658203, 1.3720703, 0.6196289, -0.72558594, -0.00044250488, -0.4177246, 0.013519287, 1.1083984, 1.9941406, 0.45947266, -2.5507812, -1.9140625, -2.0996094, -0.88916016, 1.0820312, 1.0703125, 1.5195312, -1.0566406, 2.2402344, -0.17480469, -1.5273438, 0.69091797, 0.05493164, -1.7226562, 0.9003906, -1.4902344, 0.70410156, -2.015625, 0.19311523, -2.2949219, 0.72802734, 1.5664062, -0.4765625, 1.5576172, 1.1445312, 0.31982422, -1.7744141, -0.82128906, 1.2519531, 0.81347656, -0.21435547, 0.4189453, -0.24072266, -1.8955078, 0.16699219, -2.0097656, 1.3300781, 1.3867188, -1.2578125, -0.39770508, -1.0136719, -0.8613281, 0.14501953, 0.6738281, 0.88964844, 0.87890625, 0.08306885, -0.34692383, 0.9482422, 0.95703125, -0.68115234, 3.8867188, -1.3183594, -0.4597168, 2.1308594, -1.0078125, -0.64746094, -0.9350586, -0.47753906, -0.7866211, 0.081726074, 0.68603516, 2.2832031, -1.7744141, 1.0664062, -1.1357422, 2.1757812, -1.0126953, -1.6367188, -1.2910156, -0.4482422, -0.88623047, -0.48754883, -0.87646484, -0.640625, 0.86328125, -1.5458984, 0.010513306, -2.0351562, 0.8491211, -2.2929688, -2.0898438, -1.0097656, 1.2246094, 0.5654297, 2.625, 0.25048828, -0.54052734, 0.13354492, 0.26391602, 0.6220703, -0.105285645, -1.7353516, 0.78466797, 0.3803711, 0.7285156, -0.14697266, -1.3105469, 2.1542969, -1.8847656, -0.7583008, 1.140625, 1.8427734, -0.93066406, 0.4675293, 1.0166016, 1.9472656, -2.2695312, 0.77246094, -1.71875, -0.21948242, 1.4912109, 0.1640625, -2.1953125, 0.5263672, -0.4868164, -0.7314453, -0.2163086, 1.4238281, 0.45898438, -0.8515625, 0.7319336, -0.48461914, 0.01965332, -2.1679688, 1.4960938, 0.080444336, -1.1416016, -0.08190918, -1.3984375, 0.046813965, -1.0332031, -0.65478516, -1.3759766, 0.7993164, 2.9628906, -0.25683594, 0.91308594, -1.3535156, -0.36132812, 1.6542969, 0.83496094, -0.48339844, -1.2089844, -1.203125, -0.98046875, 1.3974609, -1.5693359, 2.4882812, -0.38891602, 1.8408203, 0.5292969, -0.9501953, -0.7919922, -0.79541016, -0.8823242, 0.3642578, 0.7988281, 0.3305664, -0.04510498, -3.0019531, -0.8071289, 1.1181641, 1.1347656, 1.8066406, 0.98779297, 1.8427734, -2.5292969, 0.2043457, -0.14624023, -0.11431885, 2.5371094, 1.1542969, -1.9853516, -1.1269531, 0.22167969, -0.5463867, -1.2412109, -0.5102539, -2.8984375, -2.1757812, -0.7036133, 0.14904785, 0.8222656, -0.7084961, -1.4433594, -0.71533203, -0.95410156, -0.18127441, -0.98779297, 1.6201172, -1.4736328, 0.09991455, 1.3291016, 1.3105469, -1.5625, -1.4150391, -0.02784729, 0.06341553, -1.3037109, 0.076416016, -0.8457031, -0.17504883, -0.6982422, 0.5209961, -2.2636719, 0.29663086, 1.6689453, -0.7998047, 1.0732422, -0.41625977, 0.35327148, -1.2822266, -1.8339844, -0.054901123, 1.6171875, -0.75097656, 0.121276855, 0.13378906, 1.4609375, -0.52001953, -1.0107422, -0.25512695, -0.9628906, 0.15356445, 0.7998047, -0.32617188, 1.0292969, 0.14587402, 0.46166992, -1.7880859, 1.6503906, -0.20800781, 1.3603516, 3.8046875, 0.2265625, 0.73779297, 0.6489258, -0.27392578, 0.80029297, -0.1940918, 1.5, 0.21875, -0.5151367, 0.35839844, -3.46875, -0.2019043, 1.1816406, 0.7548828, -1.4033203, -1.3457031, -2.0898438, -2.2285156, 1.6865234, 0.734375, -0.053649902, 1.0800781, 1.6757812, -0.60546875, 0.85058594, -1.8105469, 3.3164062, -0.14916992, 1.6601562, 0.8339844, -0.026000977, -2.5273438, -1.0419922, -1.1943359, -0.6152344, -1.0214844, 0.89697266, -1.4736328, -1.2089844, -3.6972656, -1.3525391, -1.1484375, 0.019348145, -0.12261963, -0.65722656, 1.2695312, -0.21252441, -1.4609375, -0.53271484, -0.3942871, -1.4726562, -2.1464844, -1.2480469, 2.6484375, 0.35791016, -1.5859375, 1.0947266, 0.1928711, -1.4316406, 0.9394531, 0.9111328, -0.040161133, 0.072387695, -0.9526367, -2.6835938, -1.3789062, 0.45092773, -0.100097656, -2.3476562, 0.0927124, 0.23400879, 2.4277344, -3.0039062, -0.7392578, -0.3190918, -0.32739258, -0.7236328, -2.3417969, -0.51904297, 0.15515137, -0.33447266, 0.5859375, -0.37329102, -2.5292969, -1.4667969, 1.6513672, 0.21240234, 2.5390625, -2.7382812, -0.50927734, 0.26220703, 0.11291504, 0.6879883, -0.070129395, 4.3828125, -1.0419922, 1.859375, -0.5649414, 0.7138672, -1.1386719, 0.31762695, 0.4033203, 0.4921875, -1.4111328, -0.90722656, 1.2597656, 0.11975098, 0.39453125, -0.28125, 1.59375, 1.1513672, 0.013786316, 0.22314453, -0.2265625, 2.9355469, 1.4501953, 0.8100586, -1.5449219, -1.8134766, -0.018798828, 1.0322266, -0.9638672, -1.7509766, 1.3144531, -0.85839844, -1.8134766, 0.5317383, 0.12683105, -2.4882812, 2.2949219, 1.1318359, -1.4033203, -0.9682617, -1.6455078, -1.6992188, 1.6826172, 2.2089844, -2.6445312, -0.7685547, 0.042236328, 3.7890625, -1.0244141, 0.3840332, -1.5585938, 0.48657227, -0.859375, -0.11816406, 1.5742188, -0.8564453, -0.09680176, -0.097473145, -0.93847656, 0.7763672, 2.3125, -1.6523438, 2.3710938, 2.4511719, -0.9057617, -1.6650391, 0.26464844, -0.49560547, 1.1152344, 0.09698486, 2.1425781, 0.62353516, -2.2050781, 0.34985352, 0.71875, -0.8276367, 1.3339844, 0.45703125, 0.63427734, -1.3769531, -1.7548828, 1.5107422, 0.30615234, -0.5908203, -0.7363281, 1.1074219, -2.9160156, -1.5351562, -0.15014648, 2.1035156, 0.59277344, -1.1035156, 0.5751953, -0.031799316, 0.6699219, -1.9658203, 2.0859375, 3.1347656, -0.09020996, 1.4462891, 1.1826172, -0.7841797, 0.0059814453, -0.7529297, 1.125, -1.9160156, -1.2460938, -0.69970703, -1.1962891, 2.6933594, -0.7758789, 0.33569336, -0.8666992, 1.6435547, -0.06109619, 0.35742188, -1.5712891, 0.0803833, -0.4921875, -1.4257812, -0.58740234, 1.4824219, -1.4863281, 0.6699219, 1.2666016, 1.1015625, 0.50683594, 3.5625, 3.4726562, -0.46069336, -1.0693359, -2.1054688, -0.35717773, -2.2421875, -0.3840332, -0.5205078, -2.6914062, -0.6801758, 1.4667969, -2.5429688, -1.6337891, -0.1550293, 1.4873047, 3.3789062, 0.45263672, 1.3085938, -2.3632812, 0.0725708, 0.40063477, -1.1220703, -0.84375, 1.8476562, -0.33447266, -0.54052734, 1.6494141, -0.87353516, 0.7080078, 0.028869629, -2.7851562, -2.8183594, 0.3083496, 1.5449219, -2.0175781, 1.0361328, 0.006713867, 0.27685547, -1.6279297, -0.70703125, 1.3554688, 2.4980469, -0.26586914, -1.1015625, 0.04385376, -2.0195312, -0.35253906, 1.8398438, -0.51416016, 0.63134766, 3.8339844, -1.6757812, 0.3400879, 1.3300781, -0.71435547, 1.5703125, -0.12145996, -1.0664062, 0.41357422, -1.609375, -2.1308594, 0.09429932, 0.67822266, -1.7421875, -1.1132812, 0.04736328, -0.09442139, 0.11669922, -0.86621094, 3.2304688, -1.1943359, 0.0770874, 0.17199707, -0.7988281, -1.2207031, 0.36572266, 0.013450623, -2.9335938, -0.69873047, 1.4003906, 0.35229492, -0.77734375, -0.5205078, -0.67333984, -0.26123047, -2.1152344, 0.40478516, -1.1474609, -1.8212891, -1.0087891, -1.4238281, 0.30566406, 1.5419922, -0.14770508, -1.4335938, 0.57958984, -1.375, 0.26733398, 0.62597656, -0.42919922, 0.17773438, 0.041503906, 0.8828125, 0.64941406, -1.2988281, 1.2226562, -1.1572266, -1.4550781, 1.2919922, -2.25, -0.5566406, 0.39892578, 0.37939453, -0.58496094, -1.9277344, -1.8896484, -1.4775391, 0.71777344, 2.4804688, -1.2539062, 1.1806641, 0.59814453, 1.2304688, -0.7915039, 1.1328125, 1.3818359, -0.1295166, 0.08123779, 0.88427734, -0.53808594, 0.6557617, -2.15625, -0.9145508, 1.1679688, 0.1685791, 1.5683594, -0.54052734, -2.0625, 2.3691406, -1.8994141, 0.5917969, 0.31713867, 0.86328125, 1.6542969, 0.57910156, -0.032684326, -1.4111328, 0.07696533, 1.9833984, -0.1060791, -1.5898438, 0.9189453, -1.7587891, -2.0332031, 2.5039062, -0.87646484, 0.5019531, -0.7441406, 0.8261719, -1.9912109, 1.5888672, -0.92041016, -0.6479492, 3.6347656, 0.6352539, -0.70996094, 3.375, -0.21398926, -0.6191406, -1.5566406, -1.2998047, 0.6411133, 0.98046875, 1.015625, -0.45898438, 0.44677734, 0.875, 0.5629883, -0.47753906, -0.6269531, 3.8632812, -0.68652344, 0.7241211, -1.5332031, 0.82177734, 0.6411133, -0.63427734, 0.31567383, 2.2910156, 0.07507324, -0.90722656, 0.2211914, 1.0693359, 0.06036377, -0.4543457, -3.4082031, -1.3603516, -0.9746094, -0.94091797, -0.92333984, 0.2993164, -1.0839844, 0.1550293, 0.5288086, 0.022369385, -2.9335938, -2.6171875, 1.1523438, 2.3574219, -0.8334961, 1.0654297, 1.6152344, 0.30786133, 1.3798828, -0.6777344, -0.034118652, -0.40527344, -1.6337891, 0.064697266, 0.5488281, 1.4121094, -1.65625, -0.65625, -0.3708496, -1.7255859, -1.1923828, -1.7568359, 2.0332031, 0.43554688, -0.89941406, -0.62353516, 0.98046875, 2.5058594, 1.6982422, -0.18127441, -0.33764648, -1.3388672, 0.08074951, 0.22167969, 1.265625, -0.94873047, 1.9375, 0.84716797, 0.033355713, 0.35083008, 0.8540039, 0.6640625, 1.5195312, 0.43164062, -0.75634766, -0.13378906, -0.4025879, 2.3554688, -1.5019531, 1.5439453, -3.1757812, -1.0039062, -0.44262695, 0.2783203, -0.086364746, -0.8901367, 0.17773438, 1.703125, 1.5400391, -0.8569336, 1.0537109, -0.44799805, 2.2421875, 0.74853516, 0.78027344, 2.1289062, -0.3232422, 1.0429688, 1.4082031, -1.7421875, -0.9140625, -0.27416992, 0.58935547, 0.075927734, 1.8769531, -3.9765625, -0.73828125, -1.4160156, -0.1418457, 1.5722656, -0.6645508, -0.011505127, -0.6669922, -0.29858398, -0.2836914, -1.8349609, -0.24230957, -0.4309082, 2.0820312, 0.20751953, -1.7246094, -0.8857422, -0.2800293, 1.125, 3.0019531, -2.6992188, -0.86816406, 1.4638672, -1.6416016, 0.15161133, 0.8876953, -0.75146484, -0.16174316, -0.7207031, 1.7685547, -0.08843994, -1.9199219, 0.72021484, 1.0097656, 1.3544922, -0.76904297, 1.8007812, 0.44970703, -1.6669922, 0.69873047, -0.3305664, -1.5683594, 0.875, 1.21875, -1.4238281, 0.25610352, -0.6166992, -0.13964844, -2.3378906, -2.9960938, 0.86376953, 2.1757812, 0.7182617, 4.0742188, -0.23706055, 1.0693359, 0.083740234, -0.75878906, 0.25170898, -0.59765625, 1.5996094, -0.49145508, -0.83935547, -1.1582031, -1.2480469, -0.62597656, 1.5068359, 0.2578125, 0.5073242, 1.1181641, -0.60302734, 0.33544922, 0.578125, 0.49853516, 1.7041016, 3.2695312, -1.4707031, -1.3662109, 1.4550781, 1.21875, -2.1679688, 4.3359375, 1.9296875, -1.1894531, -0.51660156, -1.5175781, -0.2524414, -1.8085938, -0.21679688, -0.7216797, -0.49047852, -0.8046875, 0.008621216, 3.9277344, 2.9863281, 2.3730469, -2.1113281, -2.078125, 0.5048828, -0.5449219, 1.2324219, 1.265625, 0.099975586, -1.3984375, 0.036956787, 0.056854248, -0.33203125, -0.8769531, -1.9902344, 0.8276367, -0.7421875, -2.5253906, 2.0957031, 0.33398438, 2.0273438, -0.50634766, 1.0039062, 0.9375, -0.31933594, 0.39013672, -1.5175781, -0.26782227, 0.10784912, 3.0957031, 0.2993164, 0.21972656, -0.05432129, 0.8388672, 1.234375, 0.10913086, 0.45947266, 4.0117188, -3.2636719, 0.28271484, -0.09844971, -0.03994751, 1.2910156, 1.0996094, 0.20532227, 1.0009766, -0.7949219, -0.029541016, -0.23046875, 1.8535156, -0.5390625, -2.4980469, 0.24035645, -1.03125, 0.4633789, -1.8623047, -0.23693848, -1.640625, 0.32861328, -1.9960938, -1.9160156, -2.328125, 3.5273438, -0.9042969, 2.0195312, 0.9741211, 1.2929688, -0.25512695, -1.6025391, 1.4414062, -1.1445312, 1.6044922, 1.1191406, 2.3125, -0.8022461, 2.8730469, 0.029785156, -2.6445312, -0.7495117, -1.0527344, 1.4257812, 1.2851562, 0.18127441, 0.48876953, 0.61865234, 1.2148438, -0.9941406, -1.3027344, 0.62402344, 0.26171875, 1.1308594, -0.10571289, 0.34350586, -0.25585938, 0.35791016, -3.5605469, -1.3408203, -0.17687988, -1.3359375, 0.9238281, -0.67285156, -2, -0.58496094, -0.34570312, 0.39038086, 1.3828125, 1.6894531, -1.8164062, 0.019134521, -2.4804688, -2.3945312, -1.5947266, 1.4160156, 0.08605957, -0.83740234, 1.3232422, 1.3427734, -1.2412109, 0.65478516, 0.88378906, -0.32836914, 0.39257812, 0.47509766, 0.097595215, -0.7089844, -0.515625, 1.3271484, 0.0034179688, -1.9677734, 2.5039062, -0.101623535, 0.22497559, -2.0351562, -2.078125, 0.19799805, -1.2246094, -1.9589844, -0.9794922, 0.3251953, 0.8286133, -1.1347656, 2.875, -0.52490234, -0.5917969, 0.2763672, -0.16516113, -0.19189453, 0.064331055, -1.1914062, 0.8442383, 1.6767578, 1.0019531, -0.7216797, -1.1474609, -1.7841797, 0.8046875, 0.5185547, 1.2978516, -1.2001953, -0.51660156, -1.4707031, -1.5800781, 0.26416016, 1.0966797, 2.1328125, 0.035461426, 0.39746094, -1.9423828, 1.4941406, -0.50634766, 1.0107422, -0.16711426, 0.015197754, 1.2626953, 4.3359375, 0.42382812, -1.8271484, -1.0576172, 1.2421875, -0.8095703, 1.1796875, -0.38598633, -1.8505859, 0.9951172, 1.6152344, 0.6152344, 0.80322266, 0.85839844, 0.6972656, 1.6230469, -0.2310791, -1.1445312, -2.6542969, 0.42919922, 1.2714844, 0.5805664, -0.8310547, 2.578125, -1.1523438, 1.1054688, -0.76953125, 2.4746094, 0.59716797, 1.1289062, 0.55078125, 0.8120117, 1.0458984, 1.2109375, -1.3105469, 1.2304688, -0.030761719, -1.0136719, 1.5527344, -0.19567871, -0.7792969, -0.44458008, 0.87109375, 3.0644531, -0.24365234, 0.6582031, 0.45117188, 1.8242188, -0.92626953, -2.0996094, -0.39208984, -1.75, -1.8554688, -0.67041016, 2.5175781, 0.09790039, -2.5390625, -1.1591797, -0.9135742, -1.9921875, -0.8984375, 1.0898438, -1.8007812, -2.6210938, -1.0722656, 0.35620117, -1.5507812, 0.42260742, -1.6503906, -0.111572266, 0.98046875, -1.6806641, -1.2841797, -0.1159668, -0.7084961, 1.2597656, 0.7817383, -1.7089844, 0.5644531, -0.36132812, 1.6552734, -0.54345703, 0.6777344, -1.234375, 2.3222656, 3.0839844, 0.055358887, 1.078125, 0.16699219, -2.0371094, -0.52734375, -2.6679688, 1.8105469, 1.5195312, -0.63183594, -1.453125, 0.33764648, 0.82714844, -2.2285156, 0.3618164, 1.3496094, -1.6699219, -0.22802734, 1.2587891, 0.53466797, -0.7504883, 1.5302734, 1.7138672, 1.3173828, 0.97802734, 1.1865234, -0.36743164, -2.7207031, 0.116882324, 0.5751953, 0.5449219, -0.11608887, 0.8173828, -1.2167969, 2.5546875, 1.9921875, -0.6875, 2.4609375, 0.27197266, 2.5488281, -1.0820312, -0.8925781, 1.2851562, 1.0244141, 0.5966797, -1.2802734, 1.4707031, -1.7207031, -1.2617188, -1.0673828, 1.3623047, -1.6699219, 1.875, 0.6479492, 0.5727539, 1.1464844, -1.6826172, 2.328125, 0.53027344, 0.9121094, -0.64697266, 1.5605469, -1.5380859, -0.6425781, -2.2753906, -0.33984375, -0.13134766, -1.2509766, 0.46777344, -0.1619873, 0.44873047, -1.0849609, 2.2246094, -1.3066406, 2.0605469, -1.6123047, -0.6591797, -0.77685547, 1.3544922, 0.41796875, -0.12976074, -0.20410156, -0.10583496, 1.6904297, -1.3779297, -0.4736328, 0.47607422, -1.1074219, 0.49829102, 2.296875, -3.4414062, 0.51904297, -1.8320312, -0.9003906, 0.94677734, 1.0361328, -0.089904785, -0.8935547, -1.3095703, -0.025970459, 0.2788086, -3.7988281, -0.4873047, 1.3339844, -2.6523438, -0.73046875, 0.9921875, 0.5317383, 0.056762695, 1.2080078, -1.9082031, -0.85595703, 1.5605469, 1.6298828, -0.7553711, -1.0966797, -2.3066406, -2.9101562, -0.89160156, 0.9970703, -1.046875, -0.53125, -2.8671875, 0.36401367, -1.1660156, 0.82714844, 1.5693359, -0.70947266, 0.47045898, 0.21606445, -0.42163086, 0.9272461, -0.35375977, 0.13220215, 0.053771973, 1.6455078, -0.47070312, -0.6972656, -0.043762207, 1.9667969, 1.46875, 1.7558594, -1.6425781, 1.7861328, 0.82470703, -1.4296875, -0.3154297, 0.5161133, 0.15563965, -0.35498047, -0.41308594, 0.98876953, -2.2988281, -0.54345703, -0.11645508, 0.6899414, 1.3867188, 2.6484375, 1.1416016, 0.20361328, 1.7792969, 0.32299805, -0.56347656, -4.296875, -1.6113281, 0.5419922, 0.81591797, 0.56933594, -0.40478516, -1.28125, -1.125, 1.2685547, 1.5390625, -2.7089844, 0.4802246, -0.4169922, -1.8935547, 0.7651367, 2.0273438, -0.21484375, 1.0810547, 1.3515625, 0.3635254, 2.578125, 1.9023438, -0.5917969, -0.008476257, 0.4790039, 1.6240234, 0.92089844, 0.047027588, -1.0537109, -1.0976562, -0.35351562, -0.5649414, 0.42382812, -1.2011719, -1.7441406, -1.2275391, -1.7255859, -1.6152344, 1.0205078, 0.3564453, 0.34960938, -0.8828125, -2.09375, -2.0839844, 1.6816406, 0.7109375, -0.46435547, 1.4121094, 1.8632812, -1.0126953, -1.5351562, 1.2617188, 2.3984375, 0.27783203, -2.4082031, 1.3574219, 1.8232422, 1.9443359, -0.42919922, 1.0429688, -0.8105469, 0.4399414, 1.8691406, 0.04119873, -2.5234375, 1.4511719, 0.42456055, 1.2851562, -0.18005371, 1.4873047, 0.123046875, -0.06573486, 0.12805176, -1.0732422, 0.29296875, -0.39160156, 0.90527344, -0.17626953, -0.12207031, 1.7705078, -0.3935547, -2.6796875, -0.87939453, -1.5957031, 0.28637695, 1.171875, -0.57177734, -0.140625, -0.79833984, -0.23693848, 0.7441406, 1.2558594, -0.6879883, -1.5195312, -0.11975098, -0.6074219, -0.43310547, 0.2697754, 2.75, -1.8652344, 0.21105957, 0.17407227, 1.0585938, 2.0390625, 2.2929688, -1.2070312, -1.0351562, 0.73339844, 0.3100586, 1.9082031, -0.20227051, 2.2753906, 2.3457031, 2.4414062, 0.37817383, 0.13696289, 0.33129883, 1.0683594, 0.6401367, 0.5595703, 0.5083008, -0.029052734, 0.734375, -0.08526611, -3.3964844, -1.5683594, -1.3730469, 0.29492188, -1.0546875, 1.8496094, 0.7451172, -3.6191406, -1.359375, -1.5634766, -0.83984375, -1.9111328, -0.4326172, -0.05206299, -0.6430664, -1.3320312, 1.3652344, -0.85302734, 0.30737305, -1.3037109, -1.4785156, 2.28125, 0.48242188, 0.34570312, 1.34375, -0.22607422, -0.66259766, -1.609375, -1.1767578, -1.6474609, -1.0634766, -0.43798828, -0.16125488, 0.87890625, -0.68408203, 2.0371094, 0.83935547, -1.5039062, 3.8222656, -0.1472168, -1.2226562, -3.4609375, -0.09814453, -0.44921875, -0.1340332, 2.25, -0.93066406, -0.74609375, -1.2597656, 3.5585938, -0.0413208, 1.1523438, 0.49829102, 0.74121094, -1.5244141, -0.9243164, 0.23754883, 0.64501953, -0.48535156, -1.3515625, 1.7460938, 2.0644531, 0.33251953, -0.6333008, -0.6826172, 0.30615234, 3.4570312, -2.9082031, 1.0058594, -0.50390625, 1.3369141, -2.5117188, -1.1484375, -1.8720703, 1.4003906, 0.69384766, -0.74365234, -0.40234375, 0.009094238, -0.6357422, 0.43408203, -1.7226562, 1.7832031, 0.90527344, 1.3974609, 0.7416992, 1.2324219, -0.41064453, 2.1523438, -0.87109375, -0.42163086, -0.17687988, 0.23168945, -4.2226562, 2.3710938, 0.63671875, 1.1269531, 0.15942383, -1.6386719, -0.40673828, 3.4550781, -2.109375, -1.5234375, 2.1503906, 0.34570312, 0.11065674, 0.1842041, 1.5058594, -1.1523438, 0.062805176, -0.3461914, -0.4880371, 1.7910156, -0.6689453, 1.8085938, -0.2253418, 2.1445312, -0.20825195, -0.546875, -1.0927734, -2.0214844, 1.4580078, 2.1289062, -1.2822266, -1.7626953, 1.8779297, 1.1367188, -0.021636963, 2.0371094, -2.2363281, -0.0637207, -1.1533203, -0.029083252, -0.3876953, 1.1132812, 0.39624023, -0.7128906, -2.53125, -1.8417969, 0.6269531, -2.4609375, 0.9995117, 0.9501953, 0.5415039, -0.65478516, -1.1689453, -1.0878906, 0.33203125, 0.49047852, 0.009887695, -0.24108887, 0.44335938, 1.1865234, 1.6796875, -1.2333984, -2.109375, -0.22436523, -1.7666016, 1.4160156, -0.88720703, 0.19116211, -0.11981201, -0.7832031, -0.07891846, -2.9785156, 0.1887207, -2.109375, 2.59375, -1.4521484, 0.024871826, -0.08312988, 0.42871094, 0.95166016, 0.40771484, -0.96240234, 0.4416504, -0.7817383, 0.9375, 1.484375, 1.3203125, -1.0087891, 2.1113281, -2.3984375, -0.18518066, -0.49169922, -3.0371094, -3.1933594, -1.40625, -1.2216797, -0.76123047, 0.2211914, -0.48583984, 2.1914062, -3.6484375, 0.8222656, 0.6611328, 1.0058594, -4.0429688, 0.49658203, -1.0917969, 2.0371094, -1.0703125, 2.1152344, -3.9042969, -1.0722656, -0.5439453, -0.95410156, -1.0605469, 1.3984375, 0.25390625, -1.7480469, -1.0146484, -0.21166992, 0.11871338, 0.3635254, -0.2084961, 1.8613281, -1.453125, -0.18530273, -0.54785156, 0.95166016, -1.6660156, 0.70703125, -1.8085938, 3.0019531]\n"
          ]
        }
      ]
    },
    {
      "cell_type": "code",
      "source": [
        "# Cosine similarity\n",
        "\n",
        "from sklearn.metrics.pairwise import cosine_similarity\n",
        "\n",
        "def get_similarity(target, candidates):\n",
        "  candidates = np.array(candidates)\n",
        "  target = np.expand_dims(np.array(target),axis=0)\n",
        "\n",
        "  sim = cosine_similarity(target, candidates)\n",
        "  sim = np.squeeze(sim).tolist()\n",
        "\n",
        "  sim = list(enumerate(sim))\n",
        "  sim = sorted(sim, key=lambda x:x[1], reverse=True)\n",
        "\n",
        "  return sim"
      ],
      "metadata": {
        "id": "1w87ikO-n3MN"
      },
      "execution_count": 34,
      "outputs": []
    },
    {
      "cell_type": "code",
      "source": [
        "# Example: Similarity between existing and new queries. Displays top 5 matches.\n",
        "\n",
        "similarity = get_similarity(new_query_embeds, embeds)\n",
        "\n",
        "# Display the top 5 FAQs\n",
        "print(\"New query:\")\n",
        "print(new_query,'\\n')\n",
        "\n",
        "print(\"Similar queries:\")\n",
        "for idx,score in similarity[:5]:\n",
        "  print(f\"Similarity: {score:.2f};\", df.iloc[idx][\"search_term\"])"
      ],
      "metadata": {
        "colab": {
          "base_uri": "https://localhost:8080/"
        },
        "id": "KIOqohhSo8bM",
        "outputId": "718baf9d-8002-44c2-cff2-ff6ee1964a45"
      },
      "execution_count": 67,
      "outputs": [
        {
          "output_type": "stream",
          "name": "stdout",
          "text": [
            "New query:\n",
            "What is the purpose of hello world? \n",
            "\n",
            "Similar queries:\n",
            "Similarity: 0.76; what is hello world\n",
            "Similarity: 0.72; why hello world\n",
            "Similarity: 0.65; how to do hello world\n",
            "Similarity: 0.64; how did hello world originate\n",
            "Similarity: 0.63; how to write hello world\n"
          ]
        }
      ]
    },
    {
      "cell_type": "markdown",
      "source": [
        "## Semantic Exploration"
      ],
      "metadata": {
        "id": "zi31XHILJ4D3"
      }
    },
    {
      "cell_type": "code",
      "source": [],
      "metadata": {
        "id": "Lsc0Me__J6Ti"
      },
      "execution_count": null,
      "outputs": []
    }
  ]
}